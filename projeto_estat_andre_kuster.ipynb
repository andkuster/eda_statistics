{
 "cells": [
  {
   "cell_type": "markdown",
   "id": "4596d10f-a2b2-458f-a7b6-8346a31dc1fd",
   "metadata": {},
   "source": [
    "<div style=\"background-color: lightgreen; padding: 10px;\">\n",
    "    <h2> Projeto | Análise Exploratória de Dados (EDA) - Estatística\n",
    "</div>"
   ]
  },
  {
   "attachments": {},
   "cell_type": "markdown",
   "id": "fd3a4f7b-63ae-456c-bef7-e2167af0907e",
   "metadata": {},
   "source": [
    "### Aluno:\n",
    "André R. Kuster | nº: 1116029\n",
    "\n",
    "### Objetivo:\n",
    "\n",
    "O objetivo deste projeto é aplicar os conhecimentos adquiridos ao longo da disciplina de **Estatística 1** em um contexto prático, utilizando um conjunto de dados, a ﬁm de praticar conceitos de estatística descritiva aprendidos em sala de aula, entender sobre as distribuições dos dados e extrair possíveis insights por meio de testes de hipóteses.\n",
    "\n",
    "### Base de Dados:\n",
    "Será utilizado conjunto de dados público de trajetos feitos por taxis de Nova York, termo popularmente conhecido como \"corridas de taxi\". A base contém informações sobre o trajeto (ponto de partida e de chegada), horário de partida e de chegada, quantidade de passageiros e também sobre as tarifas cobradas. Este projeto visa identificar as estatísticas descritivas dessas variáveis, entender as possíveis distribuições, e explorar algum teste de hipótese que possa evidenciar alguma relevância estatística ou responder a alguma pergunta de negócio.\n",
    "\n",
    "A **imagem abaixo** mostra uma representação gráfica da cidade de Nova York, com cores simbolizando seus 5 bairros, que veremos mais adiante presentes na malha desses trajetos.\n",
    "\n",
    "<img src=\"https://lovingnewyork.com.br/wp-content/uploads/2018/11/como-chegar-em-nova-york-bairros-1024x972.jpg\" width=\"400\"/>\n",
    "\n",
    "### Ferramentas:\n",
    "NumPy, Pandas, Matplotlib, Seaborn\n",
    "\n",
    "### Referências:\n",
    "- https://pandas.pydata.org\n",
    "- https://seaborn.pydata.org/generated/seaborn.load_dataset.html\n",
    "- https://github.com/mwaskom/seaborn-data\n",
    "- https://www.nyc.gov/site/tlc/about/tlc-trip-record-data.page"
   ]
  },
  {
   "cell_type": "markdown",
   "id": "c68a009e-822c-4493-917f-4833cb125015",
   "metadata": {},
   "source": [
    "<div style=\"background-color: lightgreen; padding: 10px;\">\n",
    "    <h2> Importação das bibliotecas\n",
    "</div>"
   ]
  },
  {
   "cell_type": "markdown",
   "id": "eb92ef5b-4e5f-477b-ab8e-1c532683ab4e",
   "metadata": {},
   "source": [
    "Inicialmente iremos importar o NumPy, Pandas e o Seaborn, utilizando respectivamente os alias ``np``, ``pd`` e ``sns``. \n",
    "\n",
    "Essas bibliotecas serão utilizados para manipular os dados que estudaremos a seguir."
   ]
  },
  {
   "cell_type": "code",
   "execution_count": 222,
   "id": "11acb55b-ffed-4bf7-b479-21abbebe8a35",
   "metadata": {},
   "outputs": [],
   "source": [
    "import numpy as np\n",
    "import pandas as pd \n",
    "import seaborn as sns\n",
    "import matplotlib.pyplot as plt\n",
    "from datetime import datetime"
   ]
  },
  {
   "cell_type": "markdown",
   "id": "dae63eb7-ed7c-4fda-97d7-bab7185eca96",
   "metadata": {},
   "source": [
    "<div style=\"background-color: lightgreen; padding: 10px;\">\n",
    "    <h2> Escolha da base de dados\n",
    "</div>"
   ]
  },
  {
   "cell_type": "markdown",
   "id": "1ac8b66c-2057-4ec4-acca-5f9cada4d76a",
   "metadata": {},
   "source": [
    "A escolha da base de dados passou por um exame das bases disponíveis na biblioteca  ``Seaborn``.\n",
    "\n",
    "Abaixo listaremos algumas dessas opções:"
   ]
  },
  {
   "cell_type": "code",
   "execution_count": 223,
   "id": "675f0ec5-ae40-4d59-8657-fae376249110",
   "metadata": {},
   "outputs": [
    {
     "name": "stdout",
     "output_type": "stream",
     "text": [
      "['anagrams', 'anscombe', 'attention', 'brain_networks', 'car_crashes', 'diamonds', 'dots', 'dowjones', 'exercise', 'flights', 'fmri', 'geyser', 'glue', 'healthexp', 'iris', 'mpg', 'penguins', 'planets', 'seaice', 'taxis', 'tips', 'titanic']\n"
     ]
    }
   ],
   "source": [
    "datasets = sns.get_dataset_names()\n",
    "print(datasets[:22])"
   ]
  },
  {
   "cell_type": "markdown",
   "id": "475e8316-641c-4576-b4da-070c48ab8da6",
   "metadata": {},
   "source": [
    "---\n",
    "Após consultarmos o Github de algumas dessas bases, optamos pela base ``taxis``, por apresentar variáveis quantitativas e qualitativas, e também por possuir uma quantidade de observações maior do que 1000.\n",
    "\n",
    "Essa base de dados é apenas um recorte utilizado para fins de aprendizagem. A base original faz parte de um projeto do governo de New York, disponível nessa fonte:\n",
    "- https://www.nyc.gov/site/tlc/about/tlc-trip-record-data.page"
   ]
  },
  {
   "cell_type": "markdown",
   "id": "998e879d-1093-4ab8-80a0-1fd5a40609c0",
   "metadata": {},
   "source": [
    "A documentação nos mostra que a base possui informações detalhadas sobre as viagens, incluindo detalhes sobre tempo, localização, custo e pagamento. \n",
    "\n",
    "A seguir, estudaremos mais sobre a distribuição e sobre as estatísticas descritivas em buscar de padrões e possíveis perguntas de negócio que possam ser respondidas.\n",
    "\n",
    "Abaixo ficará um quadro resumo com a descrição das variáveis:\n",
    "\n",
    "| Coluna           | Descrição                                                                                              |\n",
    "|------------------|--------------------------------------------------------------------------------------------------------|\n",
    "| pickup           | Representa a data-hora em que o passageiro foi pego pelo táxi.                                  |\n",
    "| dropoff          | Representa a data-hora em que o passageiro foi deixado pelo táxi.                                            |\n",
    "| passengers       | Indica o número de passageiros no táxi durante a viagem.                                                |\n",
    "| distance         | Mostra a distância percorrida durante a viagem de táxi, em milhas.                                                 |\n",
    "| fare             | O valor total da tarifa cobrada pelo táxi pela viagem, em dólares.                                                  |\n",
    "| tip              | Representa o valor da gorjeta dada pelo passageiro ao motorista (somente em cartão de crédito)          |\n",
    "| tolls            | Refere-se ao valor dos pedágios pagos durante a viagem.                                                 |\n",
    "| total            | Indica o custo total da viagem, incluindo a tarifa, gorjeta, pedágios e outras taxas.                   |\n",
    "| color            | Indicar a cor do táxi (atualmente 2 tipos de taxis operam em NYC de acordo com a documentação).          |\n",
    "| payment          | Indica o método de pagamento utilizado pelo passageiro para pagar a viagem.                              |\n",
    "| pickup_zone      | Refere-se à zona ou área onde o passageiro foi pego pelo táxi.                                           |\n",
    "| dropoff_zone     | Representa a zona ou área onde o passageiro foi deixado pelo táxi.                                       |\n",
    "| pickup_borough   | Indica o bairro onde o passageiro foi pego pelo táxi.                                                   |\n",
    "| dropoff_borough  | Representa o bairro onde o passageiro foi deixado pelo táxi.                                             |"
   ]
  },
  {
   "cell_type": "markdown",
   "id": "c591ab89-7254-4e58-be48-1faa9c23d3cb",
   "metadata": {},
   "source": [
    "<div style=\"background-color: lightgreen; padding: 10px;\">\n",
    "    <h2> Leitura da base de dados\n",
    "</div>"
   ]
  },
  {
   "cell_type": "markdown",
   "id": "1be97380-3aba-4313-8ede-cbd16cede346",
   "metadata": {},
   "source": [
    "Após o carregamento das bases de dados, iremos avançar para a etapa de leitura e para o discovery das informações apresentadas."
   ]
  },
  {
   "cell_type": "code",
   "execution_count": 224,
   "id": "074ab36a-8d87-4664-8dcb-15480b00a72f",
   "metadata": {},
   "outputs": [
    {
     "data": {
      "text/html": [
       "<div>\n",
       "<style scoped>\n",
       "    .dataframe tbody tr th:only-of-type {\n",
       "        vertical-align: middle;\n",
       "    }\n",
       "\n",
       "    .dataframe tbody tr th {\n",
       "        vertical-align: top;\n",
       "    }\n",
       "\n",
       "    .dataframe thead th {\n",
       "        text-align: right;\n",
       "    }\n",
       "</style>\n",
       "<table border=\"1\" class=\"dataframe\">\n",
       "  <thead>\n",
       "    <tr style=\"text-align: right;\">\n",
       "      <th></th>\n",
       "      <th>pickup</th>\n",
       "      <th>dropoff</th>\n",
       "      <th>passengers</th>\n",
       "      <th>distance</th>\n",
       "      <th>fare</th>\n",
       "      <th>tip</th>\n",
       "      <th>tolls</th>\n",
       "      <th>total</th>\n",
       "      <th>color</th>\n",
       "      <th>payment</th>\n",
       "      <th>pickup_zone</th>\n",
       "      <th>dropoff_zone</th>\n",
       "      <th>pickup_borough</th>\n",
       "      <th>dropoff_borough</th>\n",
       "    </tr>\n",
       "  </thead>\n",
       "  <tbody>\n",
       "    <tr>\n",
       "      <th>0</th>\n",
       "      <td>2019-03-23 20:21:09</td>\n",
       "      <td>2019-03-23 20:27:24</td>\n",
       "      <td>1</td>\n",
       "      <td>1.60</td>\n",
       "      <td>7.0</td>\n",
       "      <td>2.15</td>\n",
       "      <td>0.0</td>\n",
       "      <td>12.95</td>\n",
       "      <td>yellow</td>\n",
       "      <td>credit card</td>\n",
       "      <td>Lenox Hill West</td>\n",
       "      <td>UN/Turtle Bay South</td>\n",
       "      <td>Manhattan</td>\n",
       "      <td>Manhattan</td>\n",
       "    </tr>\n",
       "    <tr>\n",
       "      <th>1</th>\n",
       "      <td>2019-03-04 16:11:55</td>\n",
       "      <td>2019-03-04 16:19:00</td>\n",
       "      <td>1</td>\n",
       "      <td>0.79</td>\n",
       "      <td>5.0</td>\n",
       "      <td>0.00</td>\n",
       "      <td>0.0</td>\n",
       "      <td>9.30</td>\n",
       "      <td>yellow</td>\n",
       "      <td>cash</td>\n",
       "      <td>Upper West Side South</td>\n",
       "      <td>Upper West Side South</td>\n",
       "      <td>Manhattan</td>\n",
       "      <td>Manhattan</td>\n",
       "    </tr>\n",
       "    <tr>\n",
       "      <th>2</th>\n",
       "      <td>2019-03-27 17:53:01</td>\n",
       "      <td>2019-03-27 18:00:25</td>\n",
       "      <td>1</td>\n",
       "      <td>1.37</td>\n",
       "      <td>7.5</td>\n",
       "      <td>2.36</td>\n",
       "      <td>0.0</td>\n",
       "      <td>14.16</td>\n",
       "      <td>yellow</td>\n",
       "      <td>credit card</td>\n",
       "      <td>Alphabet City</td>\n",
       "      <td>West Village</td>\n",
       "      <td>Manhattan</td>\n",
       "      <td>Manhattan</td>\n",
       "    </tr>\n",
       "    <tr>\n",
       "      <th>3</th>\n",
       "      <td>2019-03-10 01:23:59</td>\n",
       "      <td>2019-03-10 01:49:51</td>\n",
       "      <td>1</td>\n",
       "      <td>7.70</td>\n",
       "      <td>27.0</td>\n",
       "      <td>6.15</td>\n",
       "      <td>0.0</td>\n",
       "      <td>36.95</td>\n",
       "      <td>yellow</td>\n",
       "      <td>credit card</td>\n",
       "      <td>Hudson Sq</td>\n",
       "      <td>Yorkville West</td>\n",
       "      <td>Manhattan</td>\n",
       "      <td>Manhattan</td>\n",
       "    </tr>\n",
       "    <tr>\n",
       "      <th>4</th>\n",
       "      <td>2019-03-30 13:27:42</td>\n",
       "      <td>2019-03-30 13:37:14</td>\n",
       "      <td>3</td>\n",
       "      <td>2.16</td>\n",
       "      <td>9.0</td>\n",
       "      <td>1.10</td>\n",
       "      <td>0.0</td>\n",
       "      <td>13.40</td>\n",
       "      <td>yellow</td>\n",
       "      <td>credit card</td>\n",
       "      <td>Midtown East</td>\n",
       "      <td>Yorkville West</td>\n",
       "      <td>Manhattan</td>\n",
       "      <td>Manhattan</td>\n",
       "    </tr>\n",
       "  </tbody>\n",
       "</table>\n",
       "</div>"
      ],
      "text/plain": [
       "               pickup             dropoff  passengers  distance  fare   tip  \\\n",
       "0 2019-03-23 20:21:09 2019-03-23 20:27:24           1      1.60   7.0  2.15   \n",
       "1 2019-03-04 16:11:55 2019-03-04 16:19:00           1      0.79   5.0  0.00   \n",
       "2 2019-03-27 17:53:01 2019-03-27 18:00:25           1      1.37   7.5  2.36   \n",
       "3 2019-03-10 01:23:59 2019-03-10 01:49:51           1      7.70  27.0  6.15   \n",
       "4 2019-03-30 13:27:42 2019-03-30 13:37:14           3      2.16   9.0  1.10   \n",
       "\n",
       "   tolls  total   color      payment            pickup_zone  \\\n",
       "0    0.0  12.95  yellow  credit card        Lenox Hill West   \n",
       "1    0.0   9.30  yellow         cash  Upper West Side South   \n",
       "2    0.0  14.16  yellow  credit card          Alphabet City   \n",
       "3    0.0  36.95  yellow  credit card              Hudson Sq   \n",
       "4    0.0  13.40  yellow  credit card           Midtown East   \n",
       "\n",
       "            dropoff_zone pickup_borough dropoff_borough  \n",
       "0    UN/Turtle Bay South      Manhattan       Manhattan  \n",
       "1  Upper West Side South      Manhattan       Manhattan  \n",
       "2           West Village      Manhattan       Manhattan  \n",
       "3         Yorkville West      Manhattan       Manhattan  \n",
       "4         Yorkville West      Manhattan       Manhattan  "
      ]
     },
     "execution_count": 224,
     "metadata": {},
     "output_type": "execute_result"
    }
   ],
   "source": [
    "taxis = sns.load_dataset('taxis')\n",
    "taxis.head()"
   ]
  },
  {
   "cell_type": "markdown",
   "id": "0e49306e-ce91-4d32-abad-867d434e7f94",
   "metadata": {},
   "source": [
    "Inicialmente visualizamos as 5 primeiras observações da base, e também visualizamos o tamanho da base e as informações sobre as tipagens dos atributos:"
   ]
  },
  {
   "cell_type": "code",
   "execution_count": 225,
   "id": "74c60bcb-6ae9-430e-a86d-94fa8ff130aa",
   "metadata": {},
   "outputs": [
    {
     "data": {
      "text/plain": [
       "(6433, 14)"
      ]
     },
     "execution_count": 225,
     "metadata": {},
     "output_type": "execute_result"
    }
   ],
   "source": [
    "taxis.shape"
   ]
  },
  {
   "cell_type": "code",
   "execution_count": 226,
   "id": "9e535f02-cbca-4c4b-a5b6-ac2bca7dfedf",
   "metadata": {},
   "outputs": [
    {
     "name": "stdout",
     "output_type": "stream",
     "text": [
      "<class 'pandas.core.frame.DataFrame'>\n",
      "RangeIndex: 6433 entries, 0 to 6432\n",
      "Data columns (total 14 columns):\n",
      " #   Column           Non-Null Count  Dtype         \n",
      "---  ------           --------------  -----         \n",
      " 0   pickup           6433 non-null   datetime64[ns]\n",
      " 1   dropoff          6433 non-null   datetime64[ns]\n",
      " 2   passengers       6433 non-null   int64         \n",
      " 3   distance         6433 non-null   float64       \n",
      " 4   fare             6433 non-null   float64       \n",
      " 5   tip              6433 non-null   float64       \n",
      " 6   tolls            6433 non-null   float64       \n",
      " 7   total            6433 non-null   float64       \n",
      " 8   color            6433 non-null   object        \n",
      " 9   payment          6389 non-null   object        \n",
      " 10  pickup_zone      6407 non-null   object        \n",
      " 11  dropoff_zone     6388 non-null   object        \n",
      " 12  pickup_borough   6407 non-null   object        \n",
      " 13  dropoff_borough  6388 non-null   object        \n",
      "dtypes: datetime64[ns](2), float64(5), int64(1), object(6)\n",
      "memory usage: 703.7+ KB\n"
     ]
    }
   ],
   "source": [
    "taxis.info()"
   ]
  },
  {
   "cell_type": "markdown",
   "id": "9c7d48b5-328d-44c0-aafd-3b159b675570",
   "metadata": {},
   "source": [
    "*Conclusão: São 6433 registros de viagens e 14 colunas disponíveis para explorarmos. Quanto aos tipos, existem ``datetime``, ``int`` para o número de passageiros, ``float`` para as distâncias e tarifas, e ``objects`` representando as variáveis em strings em nosso dataframe*"
   ]
  },
  {
   "cell_type": "markdown",
   "id": "8241c5ba-35cf-4acc-ba18-fea413291853",
   "metadata": {},
   "source": [
    "*Abaixo apresentamos uma tabela contendo o sumário com o nome das variáveis, seus tipos e classificações:*\n",
    "\n",
    "| Nome da Variável | Tipo      | Classificação         |\n",
    "|------------------|-----------|-----------------------|\n",
    "| pickup           | datetime  | Quantitativa Contínua / Qualitativa Ordinal |\n",
    "| dropoff          | datetime  | Quantitativa Contínua / Qualitativa Ordinal |\n",
    "| passengers       | int       | Quantitativa Discreta |\n",
    "| distance         | float     | Quantitativa Contínia |\n",
    "| fare             | float     | Quantitativa Contínia |\n",
    "| tip              | float     | Quantitativa Contínia |\n",
    "| tolls            | float     | Quantitativa Contínia |\n",
    "| total            | float     | Quantitativa Contínia |\n",
    "| color            | str       | Qualitativa Nominal   |\n",
    "| payment          | str       | Qualitativa Nominal   |\n",
    "| pickup_zone      | str       | Qualitativa Nominal   |\n",
    "| dropoff_zone     | str       | Qualitativa Nominal   |\n",
    "| pickup_borough   | str       | Qualitativa Nominal   |\n",
    "| dropoff_borough  | str       | Qualitativa Nominal   |"
   ]
  },
  {
   "cell_type": "markdown",
   "id": "3506a6bd-e86f-49e6-a233-6bf9c3fe97d9",
   "metadata": {},
   "source": [
    "---\n",
    "Investigaremos também se há a presença de ``missing values``, ou seja, valores faltantes em alguma das colunas de nossa base:"
   ]
  },
  {
   "cell_type": "code",
   "execution_count": 227,
   "id": "643466a8-6881-4c12-84d6-54f8eb0420ef",
   "metadata": {},
   "outputs": [
    {
     "data": {
      "text/plain": [
       "pickup              0\n",
       "dropoff             0\n",
       "passengers          0\n",
       "distance            0\n",
       "fare                0\n",
       "tip                 0\n",
       "tolls               0\n",
       "total               0\n",
       "color               0\n",
       "payment            44\n",
       "pickup_zone        26\n",
       "dropoff_zone       45\n",
       "pickup_borough     26\n",
       "dropoff_borough    45\n",
       "dtype: int64"
      ]
     },
     "execution_count": 227,
     "metadata": {},
     "output_type": "execute_result"
    }
   ],
   "source": [
    "taxis.isna().sum()"
   ]
  },
  {
   "cell_type": "markdown",
   "id": "6120b6d6-aa57-4431-a87a-21cde3ed7bfa",
   "metadata": {},
   "source": [
    "*Conclusão: De fato existem colunas onde até 45 observações apresentam valores faltantes. Como esses valores ausentes estão em colunas categóricas relacionadas à forma de pagamento e região do trajeto, não iremos removê-las, pois desejamos analisar as distribuições das colunas quantitativas.*"
   ]
  },
  {
   "cell_type": "markdown",
   "id": "c09e6d3f-d32a-48c7-ac37-3512edb412e7",
   "metadata": {},
   "source": [
    "---\n",
    "Por meio das funções ``min`` e ``max`` iremos descobrir quantos dias compreendem as viagens disponíveis nessa base de dados:"
   ]
  },
  {
   "cell_type": "code",
   "execution_count": 228,
   "id": "5435f2a3-b80b-4bdf-ada3-fdcdbdc97fa8",
   "metadata": {},
   "outputs": [
    {
     "data": {
      "text/plain": [
       "Timestamp('2019-02-28 23:29:03')"
      ]
     },
     "execution_count": 228,
     "metadata": {},
     "output_type": "execute_result"
    }
   ],
   "source": [
    "taxis[\"pickup\"].min()"
   ]
  },
  {
   "cell_type": "code",
   "execution_count": 229,
   "id": "4dd3f294-6177-4043-acf1-b9456f8b37b9",
   "metadata": {},
   "outputs": [
    {
     "data": {
      "text/plain": [
       "Timestamp('2019-03-31 23:43:45')"
      ]
     },
     "execution_count": 229,
     "metadata": {},
     "output_type": "execute_result"
    }
   ],
   "source": [
    "taxis[\"pickup\"].max()"
   ]
  },
  {
   "cell_type": "code",
   "execution_count": 230,
   "id": "471aaceb-6e55-41df-957a-5e51e61ccc15",
   "metadata": {},
   "outputs": [
    {
     "data": {
      "text/plain": [
       "Timedelta('-32 days +23:45:18')"
      ]
     },
     "execution_count": 230,
     "metadata": {},
     "output_type": "execute_result"
    }
   ],
   "source": [
    "taxis[\"pickup\"].min() - taxis[\"pickup\"].max()"
   ]
  },
  {
   "cell_type": "markdown",
   "id": "233dc8cb-df92-4dd3-b05f-d8e89489fec9",
   "metadata": {},
   "source": [
    "*Conclusão: As dados são de viagens que ocorreram entre o dia 28 de fevereiro de 2019 e 31 de março do mesmo ano.*"
   ]
  },
  {
   "cell_type": "markdown",
   "id": "d391afe5-0edf-4bbf-afc8-8e1223f9aad4",
   "metadata": {},
   "source": [
    "---\n",
    "Agora iremos explorar o conteúdo da variável ``passengers`` e suas tabelas de frequências absolutas e relativas:"
   ]
  },
  {
   "cell_type": "code",
   "execution_count": 231,
   "id": "92a7f37c-a5fc-45ff-87cc-5d9abc45b49d",
   "metadata": {},
   "outputs": [
    {
     "data": {
      "text/plain": [
       "1    4678\n",
       "2     876\n",
       "5     277\n",
       "3     243\n",
       "6     153\n",
       "4     110\n",
       "0      96\n",
       "Name: passengers, dtype: int64"
      ]
     },
     "execution_count": 231,
     "metadata": {},
     "output_type": "execute_result"
    }
   ],
   "source": [
    "taxis[\"passengers\"].value_counts()"
   ]
  },
  {
   "cell_type": "code",
   "execution_count": 232,
   "id": "30f0ba11-adef-4dd9-8530-89f5247c1371",
   "metadata": {},
   "outputs": [
    {
     "data": {
      "text/plain": [
       "1    0.727188\n",
       "2    0.136173\n",
       "5    0.043059\n",
       "3    0.037774\n",
       "6    0.023784\n",
       "4    0.017099\n",
       "0    0.014923\n",
       "Name: passengers, dtype: float64"
      ]
     },
     "execution_count": 232,
     "metadata": {},
     "output_type": "execute_result"
    }
   ],
   "source": [
    "taxis[\"passengers\"].value_counts(normalize=True)"
   ]
  },
  {
   "cell_type": "markdown",
   "id": "e8f78c8d-affd-4d8d-8ee4-5d4340607ebc",
   "metadata": {},
   "source": [
    "*Conclusão: As viagens foram realizadas por somente 1 passageiro em 72% dos casos. Existem também casos com 2 a 6 passageiros. E vale ressaltar a presença de 96 ocorrências onde não houve a declaração de um passageiro presente (0 passageiros)*"
   ]
  },
  {
   "cell_type": "markdown",
   "id": "66edb1b6-869b-4366-a8b1-10caee1c05f7",
   "metadata": {},
   "source": [
    "---\n",
    "Avançamos para a leitura de outras variáveis categóricas, como ``cor`` e ``forma de pagamento``:"
   ]
  },
  {
   "cell_type": "code",
   "execution_count": 233,
   "id": "75280248-fa8a-43b6-a183-dda9e969d83b",
   "metadata": {},
   "outputs": [
    {
     "data": {
      "text/plain": [
       "yellow    5451\n",
       "green      982\n",
       "Name: color, dtype: int64"
      ]
     },
     "execution_count": 233,
     "metadata": {},
     "output_type": "execute_result"
    }
   ],
   "source": [
    "taxis[\"color\"].value_counts()"
   ]
  },
  {
   "cell_type": "code",
   "execution_count": 234,
   "id": "688b61fd-4748-466c-a03d-0853ad929083",
   "metadata": {},
   "outputs": [
    {
     "data": {
      "text/plain": [
       "yellow    0.84735\n",
       "green     0.15265\n",
       "Name: color, dtype: float64"
      ]
     },
     "execution_count": 234,
     "metadata": {},
     "output_type": "execute_result"
    }
   ],
   "source": [
    "taxis[\"color\"].value_counts(normalize=True)"
   ]
  },
  {
   "cell_type": "code",
   "execution_count": 235,
   "id": "aa191a9b-89a2-47af-9cf7-d7f8b82dcb89",
   "metadata": {},
   "outputs": [
    {
     "data": {
      "text/plain": [
       "credit card    4577\n",
       "cash           1812\n",
       "Name: payment, dtype: int64"
      ]
     },
     "execution_count": 235,
     "metadata": {},
     "output_type": "execute_result"
    }
   ],
   "source": [
    "taxis[\"payment\"].value_counts()"
   ]
  },
  {
   "cell_type": "code",
   "execution_count": 236,
   "id": "4c03fef9-9a95-4a73-b0c2-20fc432c6e32",
   "metadata": {},
   "outputs": [
    {
     "data": {
      "text/plain": [
       "credit card    0.716388\n",
       "cash           0.283612\n",
       "Name: payment, dtype: float64"
      ]
     },
     "execution_count": 236,
     "metadata": {},
     "output_type": "execute_result"
    }
   ],
   "source": [
    "taxis[\"payment\"].value_counts(normalize=True)"
   ]
  },
  {
   "cell_type": "markdown",
   "id": "28c159d5-3492-44c3-9c9e-be56dd0f979c",
   "metadata": {},
   "source": [
    "*Conclusão: As viagens foram realizadas em sua grande maioria por taxis amarelos (85% dos casos) e os pagamentos feitos na maior parte, em cartão de crédito (71% dos casos).*"
   ]
  },
  {
   "cell_type": "markdown",
   "id": "9ac573ec-3442-4b3b-b0e9-e4d3c86a8365",
   "metadata": {},
   "source": [
    "---\n",
    "Com relação aos bairros, desejamos explorar quais são as ocorrências seja por local de partida ou de destino:"
   ]
  },
  {
   "cell_type": "code",
   "execution_count": 237,
   "id": "166233e6-7d7e-44b6-917d-d8885732cbe3",
   "metadata": {},
   "outputs": [
    {
     "data": {
      "text/plain": [
       "Manhattan    5268\n",
       "Queens        657\n",
       "Brooklyn      383\n",
       "Bronx          99\n",
       "Name: pickup_borough, dtype: int64"
      ]
     },
     "execution_count": 237,
     "metadata": {},
     "output_type": "execute_result"
    }
   ],
   "source": [
    "taxis[\"pickup_borough\"].value_counts()"
   ]
  },
  {
   "cell_type": "code",
   "execution_count": 238,
   "id": "a2823bd9-a8f1-46ac-85e7-1a52c0710e2d",
   "metadata": {},
   "outputs": [
    {
     "data": {
      "text/plain": [
       "Manhattan        5206\n",
       "Queens            542\n",
       "Brooklyn          501\n",
       "Bronx             137\n",
       "Staten Island       2\n",
       "Name: dropoff_borough, dtype: int64"
      ]
     },
     "execution_count": 238,
     "metadata": {},
     "output_type": "execute_result"
    }
   ],
   "source": [
    "taxis[\"dropoff_borough\"].value_counts()"
   ]
  },
  {
   "cell_type": "markdown",
   "id": "defbec3d-67ad-4336-8a59-c64b9d9acb03",
   "metadata": {},
   "source": [
    "A grande maioria dos trajetos foram feitos na ilha de Manhattan, seja como ponto de partida ou de chegada.\n",
    "\n",
    "***Nota:*** Posteriormente podemos verificar se isso está relacionado ao fato da maior parte das viagens terem sido feitas por taxis da cor **amarela**."
   ]
  },
  {
   "cell_type": "markdown",
   "id": "59d09ed1-e2db-4787-9d84-d428337b053a",
   "metadata": {},
   "source": [
    "<div style=\"background-color: lightgreen; padding: 10px;\">\n",
    "    <h2> Tratamento dos Dados\n",
    "</div>"
   ]
  },
  {
   "cell_type": "markdown",
   "id": "0a2c9d95-5b96-4510-8a1a-8e213103875b",
   "metadata": {},
   "source": [
    "Etapa importante em toda análise de dados, o tratamento atende desde a tipagem de colunas, até a modificação e inclusão de novas variáveis em nossa base de dados.\n",
    "\n",
    "Visto que possuímos a data-hora do embarque e do desembarque do passageiro, podemos calcular novas colunas como, por exemplo, a **duração total** da viagem, em minutos ou segundos.\n",
    "\n",
    "Faremos uso da biblioteca ``datetime`` para isso."
   ]
  },
  {
   "cell_type": "code",
   "execution_count": 239,
   "id": "e6b88ab8-a8b5-4c2c-b61c-6eb4e2eb1a9b",
   "metadata": {},
   "outputs": [],
   "source": [
    "taxis['duration_delta'] = taxis[\"dropoff\"] - taxis[\"pickup\"]"
   ]
  },
  {
   "cell_type": "code",
   "execution_count": 240,
   "id": "4aff907a-1e0c-4d7a-a07c-cad017545cf7",
   "metadata": {},
   "outputs": [],
   "source": [
    "taxis['duration_seconds'] = (taxis['dropoff'] - taxis['pickup']).dt.total_seconds()"
   ]
  },
  {
   "cell_type": "code",
   "execution_count": 241,
   "id": "a5265fad-dd7d-47f8-b54d-fc959fcf8873",
   "metadata": {},
   "outputs": [],
   "source": [
    "taxis['duration_minutes'] = taxis['duration_seconds'] / 60"
   ]
  },
  {
   "cell_type": "markdown",
   "id": "3f34ce55-bb09-49e9-ac2f-6d3f5af8fa95",
   "metadata": {},
   "source": [
    "Uma vez calculadas as nossas novas colunas de duração, faremos uma checagem para conferir o resultado das primeiras 5 observações:"
   ]
  },
  {
   "cell_type": "code",
   "execution_count": 242,
   "id": "355dc87d-3682-414a-af9c-c0d639727ff4",
   "metadata": {},
   "outputs": [
    {
     "data": {
      "text/html": [
       "<div>\n",
       "<style scoped>\n",
       "    .dataframe tbody tr th:only-of-type {\n",
       "        vertical-align: middle;\n",
       "    }\n",
       "\n",
       "    .dataframe tbody tr th {\n",
       "        vertical-align: top;\n",
       "    }\n",
       "\n",
       "    .dataframe thead th {\n",
       "        text-align: right;\n",
       "    }\n",
       "</style>\n",
       "<table border=\"1\" class=\"dataframe\">\n",
       "  <thead>\n",
       "    <tr style=\"text-align: right;\">\n",
       "      <th></th>\n",
       "      <th>duration_delta</th>\n",
       "      <th>duration_seconds</th>\n",
       "      <th>duration_minutes</th>\n",
       "    </tr>\n",
       "  </thead>\n",
       "  <tbody>\n",
       "    <tr>\n",
       "      <th>0</th>\n",
       "      <td>0 days 00:06:15</td>\n",
       "      <td>375.0</td>\n",
       "      <td>6.250000</td>\n",
       "    </tr>\n",
       "    <tr>\n",
       "      <th>1</th>\n",
       "      <td>0 days 00:07:05</td>\n",
       "      <td>425.0</td>\n",
       "      <td>7.083333</td>\n",
       "    </tr>\n",
       "    <tr>\n",
       "      <th>2</th>\n",
       "      <td>0 days 00:07:24</td>\n",
       "      <td>444.0</td>\n",
       "      <td>7.400000</td>\n",
       "    </tr>\n",
       "    <tr>\n",
       "      <th>3</th>\n",
       "      <td>0 days 00:25:52</td>\n",
       "      <td>1552.0</td>\n",
       "      <td>25.866667</td>\n",
       "    </tr>\n",
       "    <tr>\n",
       "      <th>4</th>\n",
       "      <td>0 days 00:09:32</td>\n",
       "      <td>572.0</td>\n",
       "      <td>9.533333</td>\n",
       "    </tr>\n",
       "  </tbody>\n",
       "</table>\n",
       "</div>"
      ],
      "text/plain": [
       "   duration_delta  duration_seconds  duration_minutes\n",
       "0 0 days 00:06:15             375.0          6.250000\n",
       "1 0 days 00:07:05             425.0          7.083333\n",
       "2 0 days 00:07:24             444.0          7.400000\n",
       "3 0 days 00:25:52            1552.0         25.866667\n",
       "4 0 days 00:09:32             572.0          9.533333"
      ]
     },
     "execution_count": 242,
     "metadata": {},
     "output_type": "execute_result"
    }
   ],
   "source": [
    "taxis.iloc[:, -3:].head()"
   ]
  },
  {
   "cell_type": "markdown",
   "id": "f9efff2d-6eef-46d1-9869-9c2a5e09d80c",
   "metadata": {},
   "source": [
    "<div style=\"background-color: lightgreen; padding: 10px;\">\n",
    "    <h2>  Análise Exploratória Univariada\n",
    "</div>"
   ]
  },
  {
   "cell_type": "markdown",
   "id": "cfa128a3-bf66-4f79-bac6-668125879205",
   "metadata": {},
   "source": [
    "Passadas as etapas anteriores, avançamos para a análise univariada. Nesse momento desejamos analisar de forma mais aprofundada a distribuição dos dados das seguintes variáveis quantitativas:\n",
    "- Passageiros:\n",
    "- Duração do trajeto;\n",
    "- Distância percorrida;\n",
    "- Tarifa paga;"
   ]
  },
  {
   "cell_type": "markdown",
   "id": "2e725bbb-7379-43e8-928b-6c37f798f487",
   "metadata": {},
   "source": [
    "<div style=\"background-color: lightgray; padding: 10px;\">\n",
    "    <h3>  Passageiros:\n",
    "</div>"
   ]
  },
  {
   "cell_type": "markdown",
   "id": "9e19f6c6-17ed-4704-b3a6-1a4df4431b48",
   "metadata": {},
   "source": [
    "Um primeiro assunto a ser analisado é sobre os **passageiros**:\n",
    "\n",
    "- Quais são as estatísticas descritivas dessa variável?\n",
    "- Como os dados estão distribuídos?"
   ]
  },
  {
   "cell_type": "code",
   "execution_count": 243,
   "id": "479b5873-f587-4b6f-83f0-b88e42b050ec",
   "metadata": {},
   "outputs": [
    {
     "data": {
      "text/plain": [
       "count    6433.000000\n",
       "mean        1.539251\n",
       "std         1.203768\n",
       "min         0.000000\n",
       "25%         1.000000\n",
       "50%         1.000000\n",
       "75%         2.000000\n",
       "max         6.000000\n",
       "Name: passengers, dtype: float64"
      ]
     },
     "execution_count": 243,
     "metadata": {},
     "output_type": "execute_result"
    }
   ],
   "source": [
    "taxis['passengers'].describe()"
   ]
  },
  {
   "cell_type": "code",
   "execution_count": 244,
   "id": "31651002-0117-49c6-b742-e96f092cb5d5",
   "metadata": {},
   "outputs": [
    {
     "data": {
      "text/plain": [
       "0    1\n",
       "Name: passengers, dtype: int64"
      ]
     },
     "execution_count": 244,
     "metadata": {},
     "output_type": "execute_result"
    }
   ],
   "source": [
    "taxis['passengers'].mode()"
   ]
  },
  {
   "cell_type": "code",
   "execution_count": 245,
   "id": "93b4fa04-f090-4655-bb06-6b7ed394224c",
   "metadata": {},
   "outputs": [
    {
     "data": {
      "text/plain": [
       "1.4490577096640629"
      ]
     },
     "execution_count": 245,
     "metadata": {},
     "output_type": "execute_result"
    }
   ],
   "source": [
    "taxis['passengers'].var()"
   ]
  },
  {
   "cell_type": "code",
   "execution_count": 246,
   "id": "29985416-ba1a-4355-892c-6e5faace0525",
   "metadata": {},
   "outputs": [
    {
     "data": {
      "image/png": "[encoded data removed]",
      "text/plain": [
       "<Figure size 1200x400 with 2 Axes>"
      ]
     },
     "metadata": {},
     "output_type": "display_data"
    }
   ],
   "source": [
    "fig, axs = plt.subplots(1, 2, figsize=(12, 4))\n",
    "\n",
    "# Histograma\n",
    "axs[0].hist(taxis['passengers'])\n",
    "axs[0].set_title('Passengers Histogram')\n",
    "\n",
    "# Box Plot\n",
    "axs[1].boxplot(taxis['passengers'])\n",
    "axs[1].set_title('Passengers Boxplot')\n",
    "\n",
    "plt.tight_layout()\n",
    "plt.show()"
   ]
  },
  {
   "cell_type": "markdown",
   "id": "d2535757-2731-47e7-b6b8-87d54e7c6382",
   "metadata": {},
   "source": [
    "*Conclusão: Como vimos na leitura da tabela de frequências, auxiliada pelo gráfico de histograma, a maior parte dos trajetos é feito com 1 passageiro. A média de passageiros por trajeto é de 1.53, com desvio padrão de 1.20. <br>\n",
    "Ao utilizarmos o gráfico box plot, apesar de os dados **não** mostrarem ser de uma distribuição normal, as observações com 4, 5 e 6 passageiros foram classificadas como outliers. Entretanto seria necessário atestar sua normalidade para poder afirmar isso com o uso do boxplot.*"
   ]
  },
  {
   "cell_type": "markdown",
   "id": "608902d9-f15e-4e72-a9ad-0cf28e00fc06",
   "metadata": {},
   "source": [
    "<div style=\"background-color: lightgray; padding: 10px;\">\n",
    "    <h3>  Duração do trajeto:\n",
    "</div>"
   ]
  },
  {
   "cell_type": "markdown",
   "id": "a32d6ca7-d0b7-4103-b00f-f1ee37a9a18d",
   "metadata": {},
   "source": [
    "Agora desejamos entender melhor sobre a nova variável que criamos **duração do trajeto**:\n",
    "\n",
    "- Quais são as estatísticas descritivas dessa variável? Qual o valor mediano?\n",
    "- 75% dos trajetos são feitos em até quanto tempo?\n",
    "- Como os dados estão distribuídos?\n",
    "- Existe assimetria na distribuição?"
   ]
  },
  {
   "cell_type": "code",
   "execution_count": 247,
   "id": "9ba67357-596b-4b4e-8792-577eda6af4e0",
   "metadata": {},
   "outputs": [
    {
     "data": {
      "text/plain": [
       "count    6433.000000\n",
       "mean       14.349617\n",
       "std        11.643892\n",
       "min         0.000000\n",
       "25%         6.500000\n",
       "50%        10.900000\n",
       "75%        18.516667\n",
       "max       107.666667\n",
       "Name: duration_minutes, dtype: float64"
      ]
     },
     "execution_count": 247,
     "metadata": {},
     "output_type": "execute_result"
    }
   ],
   "source": [
    "taxis['duration_minutes'].describe()"
   ]
  },
  {
   "cell_type": "code",
   "execution_count": 248,
   "id": "967923ab-86d0-4f40-adfc-dd465a1b8e77",
   "metadata": {},
   "outputs": [
    {
     "data": {
      "text/plain": [
       "10.9"
      ]
     },
     "execution_count": 248,
     "metadata": {},
     "output_type": "execute_result"
    }
   ],
   "source": [
    "taxis['duration_minutes'].median()"
   ]
  },
  {
   "cell_type": "code",
   "execution_count": 249,
   "id": "a2fb5446-c976-4b34-9fb0-0554ab02e3e8",
   "metadata": {},
   "outputs": [
    {
     "data": {
      "text/plain": [
       "135.5802194148636"
      ]
     },
     "execution_count": 249,
     "metadata": {},
     "output_type": "execute_result"
    }
   ],
   "source": [
    "taxis['duration_minutes'].var()"
   ]
  },
  {
   "cell_type": "code",
   "execution_count": 250,
   "id": "ac5a785e-0c30-4638-b1ce-986b76a82b80",
   "metadata": {},
   "outputs": [
    {
     "data": {
      "image/png": "[encoded data removed]",
      "text/plain": [
       "<Figure size 1200x400 with 2 Axes>"
      ]
     },
     "metadata": {},
     "output_type": "display_data"
    }
   ],
   "source": [
    "fig, axs = plt.subplots(1, 2, figsize=(12, 4))\n",
    "\n",
    "# Histograma\n",
    "axs[0].hist(taxis['duration_minutes'])\n",
    "axs[0].set_title('Histograma Duração do Trajeto')\n",
    "\n",
    "# Box Plot\n",
    "axs[1].boxplot(taxis['duration_minutes'])\n",
    "axs[1].set_title('Boxplot Duração do Trajeto')\n",
    "\n",
    "plt.tight_layout()\n",
    "plt.show()"
   ]
  },
  {
   "cell_type": "code",
   "execution_count": 251,
   "id": "79739c99-9aa1-4814-a72e-c6117d993a90",
   "metadata": {},
   "outputs": [
    {
     "data": {
      "text/plain": [
       "2.0024117434553625"
      ]
     },
     "execution_count": 251,
     "metadata": {},
     "output_type": "execute_result"
    }
   ],
   "source": [
    "# avaliando a assimetria\n",
    "taxis['duration_minutes'].skew()"
   ]
  },
  {
   "cell_type": "markdown",
   "id": "1ceb472b-867e-41de-90cd-e40dec30a8d5",
   "metadata": {},
   "source": [
    "*Conclusão: O valor da assimetria ``s`` é maior que zero. Isso significa que existe uma assimetria à direita.*"
   ]
  },
  {
   "cell_type": "markdown",
   "id": "e6d6891c-c014-45dd-9bfb-1d396e7411c6",
   "metadata": {},
   "source": [
    "---\n",
    "Com o auxílio da biblioteca Seaborn, faremos uma gráfico exibindo a forma dessa distribuição:"
   ]
  },
  {
   "cell_type": "code",
   "execution_count": 252,
   "id": "b19b6e73-9a64-408a-b88d-e65bfcc6e1f1",
   "metadata": {},
   "outputs": [
    {
     "data": {
      "text/plain": [
       "<seaborn.axisgrid.FacetGrid at 0x28636f7ea90>"
      ]
     },
     "execution_count": 252,
     "metadata": {},
     "output_type": "execute_result"
    },
    {
     "data": {
      "image/png": "[encoded data removed]",
      "text/plain": [
       "<Figure size 500x500 with 1 Axes>"
      ]
     },
     "metadata": {},
     "output_type": "display_data"
    }
   ],
   "source": [
    "sns.displot(taxis['duration_minutes'], kde=True)"
   ]
  },
  {
   "cell_type": "markdown",
   "id": "013b08af-134a-44b7-a245-58be5f77d64d",
   "metadata": {},
   "source": [
    "*Conclusão: Visto que a média da duração é de 14.34 minutos e a mediana 10.9 minutos, não podemos afirmar que trata-se de uma distribuição normal. Seria necessário aplicar alguns testes como o de Shappiro-Wilk para atestar sua normalidade.*"
   ]
  },
  {
   "cell_type": "markdown",
   "id": "48658fe6-5faf-4b84-b8af-dce9bcf098ba",
   "metadata": {},
   "source": [
    "---\n",
    "*Investigação:*\n",
    "\n",
    "Identificamos que existem observações onde a duração do trajeto foi de zero minutos.\n",
    "\n",
    "Portanto faremos um filtro para colocar essas observações em evidência.\n",
    "\n",
    "Cabe ao analista definir se essas observações devem ser removidas em algum caso de estudo de duração dos trajetos."
   ]
  },
  {
   "cell_type": "code",
   "execution_count": 253,
   "id": "7e564cfe-a6a5-48b3-9563-97491d457502",
   "metadata": {},
   "outputs": [
    {
     "data": {
      "text/html": [
       "<div>\n",
       "<style scoped>\n",
       "    .dataframe tbody tr th:only-of-type {\n",
       "        vertical-align: middle;\n",
       "    }\n",
       "\n",
       "    .dataframe tbody tr th {\n",
       "        vertical-align: top;\n",
       "    }\n",
       "\n",
       "    .dataframe thead th {\n",
       "        text-align: right;\n",
       "    }\n",
       "</style>\n",
       "<table border=\"1\" class=\"dataframe\">\n",
       "  <thead>\n",
       "    <tr style=\"text-align: right;\">\n",
       "      <th></th>\n",
       "      <th>pickup</th>\n",
       "      <th>dropoff</th>\n",
       "      <th>passengers</th>\n",
       "      <th>distance</th>\n",
       "      <th>fare</th>\n",
       "      <th>tip</th>\n",
       "      <th>tolls</th>\n",
       "      <th>total</th>\n",
       "      <th>color</th>\n",
       "      <th>payment</th>\n",
       "      <th>pickup_zone</th>\n",
       "      <th>dropoff_zone</th>\n",
       "      <th>pickup_borough</th>\n",
       "      <th>dropoff_borough</th>\n",
       "      <th>duration_delta</th>\n",
       "      <th>duration_seconds</th>\n",
       "      <th>duration_minutes</th>\n",
       "    </tr>\n",
       "  </thead>\n",
       "  <tbody>\n",
       "    <tr>\n",
       "      <th>1690</th>\n",
       "      <td>2019-03-22 06:24:14</td>\n",
       "      <td>2019-03-22 06:24:14</td>\n",
       "      <td>1</td>\n",
       "      <td>0.0</td>\n",
       "      <td>72.0</td>\n",
       "      <td>0.0</td>\n",
       "      <td>0.0</td>\n",
       "      <td>72.0</td>\n",
       "      <td>yellow</td>\n",
       "      <td>NaN</td>\n",
       "      <td>East New York</td>\n",
       "      <td>NaN</td>\n",
       "      <td>Brooklyn</td>\n",
       "      <td>NaN</td>\n",
       "      <td>0 days</td>\n",
       "      <td>0.0</td>\n",
       "      <td>0.0</td>\n",
       "    </tr>\n",
       "    <tr>\n",
       "      <th>5493</th>\n",
       "      <td>2019-03-06 12:14:00</td>\n",
       "      <td>2019-03-06 12:14:00</td>\n",
       "      <td>1</td>\n",
       "      <td>0.0</td>\n",
       "      <td>10.0</td>\n",
       "      <td>0.0</td>\n",
       "      <td>0.0</td>\n",
       "      <td>10.0</td>\n",
       "      <td>green</td>\n",
       "      <td>credit card</td>\n",
       "      <td>NaN</td>\n",
       "      <td>NaN</td>\n",
       "      <td>NaN</td>\n",
       "      <td>NaN</td>\n",
       "      <td>0 days</td>\n",
       "      <td>0.0</td>\n",
       "      <td>0.0</td>\n",
       "    </tr>\n",
       "    <tr>\n",
       "      <th>5624</th>\n",
       "      <td>2019-03-11 14:04:50</td>\n",
       "      <td>2019-03-11 14:04:50</td>\n",
       "      <td>1</td>\n",
       "      <td>0.0</td>\n",
       "      <td>2.5</td>\n",
       "      <td>0.0</td>\n",
       "      <td>0.0</td>\n",
       "      <td>3.3</td>\n",
       "      <td>green</td>\n",
       "      <td>cash</td>\n",
       "      <td>NaN</td>\n",
       "      <td>NaN</td>\n",
       "      <td>NaN</td>\n",
       "      <td>NaN</td>\n",
       "      <td>0 days</td>\n",
       "      <td>0.0</td>\n",
       "      <td>0.0</td>\n",
       "    </tr>\n",
       "    <tr>\n",
       "      <th>5638</th>\n",
       "      <td>2019-03-13 12:22:00</td>\n",
       "      <td>2019-03-13 12:22:00</td>\n",
       "      <td>1</td>\n",
       "      <td>0.0</td>\n",
       "      <td>10.0</td>\n",
       "      <td>0.0</td>\n",
       "      <td>0.0</td>\n",
       "      <td>10.0</td>\n",
       "      <td>green</td>\n",
       "      <td>credit card</td>\n",
       "      <td>NaN</td>\n",
       "      <td>NaN</td>\n",
       "      <td>NaN</td>\n",
       "      <td>NaN</td>\n",
       "      <td>0 days</td>\n",
       "      <td>0.0</td>\n",
       "      <td>0.0</td>\n",
       "    </tr>\n",
       "    <tr>\n",
       "      <th>6083</th>\n",
       "      <td>2019-03-19 15:34:00</td>\n",
       "      <td>2019-03-19 15:34:00</td>\n",
       "      <td>1</td>\n",
       "      <td>0.0</td>\n",
       "      <td>5.0</td>\n",
       "      <td>0.0</td>\n",
       "      <td>0.0</td>\n",
       "      <td>5.0</td>\n",
       "      <td>green</td>\n",
       "      <td>credit card</td>\n",
       "      <td>NaN</td>\n",
       "      <td>NaN</td>\n",
       "      <td>NaN</td>\n",
       "      <td>NaN</td>\n",
       "      <td>0 days</td>\n",
       "      <td>0.0</td>\n",
       "      <td>0.0</td>\n",
       "    </tr>\n",
       "    <tr>\n",
       "      <th>6356</th>\n",
       "      <td>2019-03-01 16:58:23</td>\n",
       "      <td>2019-03-01 16:58:23</td>\n",
       "      <td>1</td>\n",
       "      <td>0.0</td>\n",
       "      <td>3.0</td>\n",
       "      <td>0.0</td>\n",
       "      <td>0.0</td>\n",
       "      <td>4.8</td>\n",
       "      <td>green</td>\n",
       "      <td>cash</td>\n",
       "      <td>Stuyvesant Heights</td>\n",
       "      <td>NaN</td>\n",
       "      <td>Brooklyn</td>\n",
       "      <td>NaN</td>\n",
       "      <td>0 days</td>\n",
       "      <td>0.0</td>\n",
       "      <td>0.0</td>\n",
       "    </tr>\n",
       "  </tbody>\n",
       "</table>\n",
       "</div>"
      ],
      "text/plain": [
       "                  pickup             dropoff  passengers  distance  fare  tip  \\\n",
       "1690 2019-03-22 06:24:14 2019-03-22 06:24:14           1       0.0  72.0  0.0   \n",
       "5493 2019-03-06 12:14:00 2019-03-06 12:14:00           1       0.0  10.0  0.0   \n",
       "5624 2019-03-11 14:04:50 2019-03-11 14:04:50           1       0.0   2.5  0.0   \n",
       "5638 2019-03-13 12:22:00 2019-03-13 12:22:00           1       0.0  10.0  0.0   \n",
       "6083 2019-03-19 15:34:00 2019-03-19 15:34:00           1       0.0   5.0  0.0   \n",
       "6356 2019-03-01 16:58:23 2019-03-01 16:58:23           1       0.0   3.0  0.0   \n",
       "\n",
       "      tolls  total   color      payment         pickup_zone dropoff_zone  \\\n",
       "1690    0.0   72.0  yellow          NaN       East New York          NaN   \n",
       "5493    0.0   10.0   green  credit card                 NaN          NaN   \n",
       "5624    0.0    3.3   green         cash                 NaN          NaN   \n",
       "5638    0.0   10.0   green  credit card                 NaN          NaN   \n",
       "6083    0.0    5.0   green  credit card                 NaN          NaN   \n",
       "6356    0.0    4.8   green         cash  Stuyvesant Heights          NaN   \n",
       "\n",
       "     pickup_borough dropoff_borough duration_delta  duration_seconds  \\\n",
       "1690       Brooklyn             NaN         0 days               0.0   \n",
       "5493            NaN             NaN         0 days               0.0   \n",
       "5624            NaN             NaN         0 days               0.0   \n",
       "5638            NaN             NaN         0 days               0.0   \n",
       "6083            NaN             NaN         0 days               0.0   \n",
       "6356       Brooklyn             NaN         0 days               0.0   \n",
       "\n",
       "      duration_minutes  \n",
       "1690               0.0  \n",
       "5493               0.0  \n",
       "5624               0.0  \n",
       "5638               0.0  \n",
       "6083               0.0  \n",
       "6356               0.0  "
      ]
     },
     "execution_count": 253,
     "metadata": {},
     "output_type": "execute_result"
    }
   ],
   "source": [
    "taxis[taxis['duration_minutes'] == 0]"
   ]
  },
  {
   "cell_type": "markdown",
   "id": "8e1b896c-025e-48ec-9faa-1b0bdc7ebe3a",
   "metadata": {},
   "source": [
    "*Conclusão: Identificamos com a análise dessa variável que a média da duração dos trajetos é de aproximadamente 14 minutos. Também descobrimos que 75% dos trajetos são realizados em até 18.5 minutos. <br>\n",
    "Os dados não aparentam estar na forma normal, e existe uma assimetria à direta na sua distribuição.*"
   ]
  },
  {
   "cell_type": "markdown",
   "id": "a1614301-9e78-4deb-9e23-76eae767b369",
   "metadata": {},
   "source": [
    "<div style=\"background-color: lightgray; padding: 10px;\">\n",
    "    <h3>  Distâncias:\n",
    "</div>"
   ]
  },
  {
   "cell_type": "markdown",
   "id": "768f69c9-2c77-4b81-91b4-d741fcffe143",
   "metadata": {},
   "source": [
    "Agora desejamos entender melhor sobre as **distâncias dos trajetos**:\n",
    "\n",
    "- Qual a média das distâncias dos trajetos?\n",
    "- Como os dados estão distribuídos?\n",
    "- Os dados estão na distribuição normal?"
   ]
  },
  {
   "cell_type": "code",
   "execution_count": 254,
   "id": "733a49c3-1d82-4488-bdc8-965b5f9cee25",
   "metadata": {},
   "outputs": [
    {
     "data": {
      "text/plain": [
       "count    6433.000000\n",
       "mean        3.024617\n",
       "std         3.827867\n",
       "min         0.000000\n",
       "25%         0.980000\n",
       "50%         1.640000\n",
       "75%         3.210000\n",
       "max        36.700000\n",
       "Name: distance, dtype: float64"
      ]
     },
     "execution_count": 254,
     "metadata": {},
     "output_type": "execute_result"
    }
   ],
   "source": [
    "taxis['distance'].describe()"
   ]
  },
  {
   "cell_type": "code",
   "execution_count": 255,
   "id": "4d81e7cb-bf97-4318-88d7-86d58b95dfa5",
   "metadata": {},
   "outputs": [
    {
     "data": {
      "text/plain": [
       "14.652565777434717"
      ]
     },
     "execution_count": 255,
     "metadata": {},
     "output_type": "execute_result"
    }
   ],
   "source": [
    "taxis['distance'].var()"
   ]
  },
  {
   "cell_type": "code",
   "execution_count": 256,
   "id": "8e31f72f-4630-4b06-9d9e-863d1f6fd2e2",
   "metadata": {},
   "outputs": [
    {
     "data": {
      "image/png": "[encoded data removed]",
      "text/plain": [
       "<Figure size 1200x400 with 2 Axes>"
      ]
     },
     "metadata": {},
     "output_type": "display_data"
    }
   ],
   "source": [
    "fig, axs = plt.subplots(1, 2, figsize=(12, 4))\n",
    "\n",
    "# Histograma\n",
    "axs[0].hist(taxis['distance'])\n",
    "axs[0].set_title('Histograma de Distâncias dos Trajetos')\n",
    "\n",
    "# Box Plot\n",
    "axs[1].boxplot(taxis['distance'])\n",
    "axs[1].set_title('Boxplot de Distâncias dos Trajetos')\n",
    "\n",
    "plt.tight_layout()\n",
    "plt.show()"
   ]
  },
  {
   "cell_type": "code",
   "execution_count": 257,
   "id": "139f06ae-abb2-4a93-b685-7f1c95d098c9",
   "metadata": {},
   "outputs": [
    {
     "data": {
      "text/plain": [
       "3.0082057890318215"
      ]
     },
     "execution_count": 257,
     "metadata": {},
     "output_type": "execute_result"
    }
   ],
   "source": [
    "# avaliando a assimetria\n",
    "taxis['distance'].skew()"
   ]
  },
  {
   "cell_type": "markdown",
   "id": "19856285-df4e-442e-a5ce-ad43ff395923",
   "metadata": {},
   "source": [
    "*Conclusão: Identificamos com a análise dessa variável que a média da distância dos trajetos é de aproximadamente 3.02 milhas. Também descobrimos que 50% dos trajetos são percorrem até 1.64 milhas, ou seja, são trajetos relativamente curtos. <br>\n",
    "Os dados não aparentam estar na forma normal, e existe uma assimetria à direta na sua distribuição (s>0).*"
   ]
  },
  {
   "cell_type": "markdown",
   "id": "76f53464-d3f9-443b-a96e-2cb3e1d412c9",
   "metadata": {},
   "source": [
    "<div style=\"background-color: lightgray; padding: 10px;\">\n",
    "    <h3>  Tarifa da Corrida:\n",
    "</div>"
   ]
  },
  {
   "cell_type": "markdown",
   "id": "4748d896-9e2d-4402-8a91-6a28e3e1ab21",
   "metadata": {},
   "source": [
    "Agora vamos explorar os dados das **tarifas das corridas**:\n",
    "\n",
    "- Qual o valor mediano das tarifas pagas?\n",
    "- Como os dados estão distribuídos?\n",
    "- Existe assimetria?"
   ]
  },
  {
   "cell_type": "code",
   "execution_count": 258,
   "id": "b5eb7143-ce1f-450d-917e-47f13fec25a7",
   "metadata": {},
   "outputs": [
    {
     "data": {
      "text/plain": [
       "count    6433.000000\n",
       "mean       13.091073\n",
       "std        11.551804\n",
       "min         1.000000\n",
       "25%         6.500000\n",
       "50%         9.500000\n",
       "75%        15.000000\n",
       "max       150.000000\n",
       "Name: fare, dtype: float64"
      ]
     },
     "execution_count": 258,
     "metadata": {},
     "output_type": "execute_result"
    }
   ],
   "source": [
    "taxis['fare'].describe()"
   ]
  },
  {
   "cell_type": "code",
   "execution_count": 259,
   "id": "341994bf-0afc-45d6-a1b3-88116432daf0",
   "metadata": {},
   "outputs": [
    {
     "data": {
      "text/plain": [
       "133.4441818095617"
      ]
     },
     "execution_count": 259,
     "metadata": {},
     "output_type": "execute_result"
    }
   ],
   "source": [
    "taxis['fare'].var()"
   ]
  },
  {
   "cell_type": "code",
   "execution_count": 260,
   "id": "d742758c-b308-48ec-a959-6c98c38d85f0",
   "metadata": {},
   "outputs": [
    {
     "data": {
      "image/png": "[encoded data removed]",
      "text/plain": [
       "<Figure size 1200x400 with 2 Axes>"
      ]
     },
     "metadata": {},
     "output_type": "display_data"
    }
   ],
   "source": [
    "fig, axs = plt.subplots(1, 2, figsize=(12, 4))\n",
    "\n",
    "# Histograma\n",
    "axs[0].hist(taxis['fare'])\n",
    "axs[0].set_title('Histograma das Tarifas dos Trajetos')\n",
    "\n",
    "# Box Plot\n",
    "axs[1].boxplot(taxis['fare'])\n",
    "axs[1].set_title('Boxplot das Tarifas dos Trajetos')\n",
    "\n",
    "plt.tight_layout()\n",
    "plt.show()"
   ]
  },
  {
   "cell_type": "code",
   "execution_count": 261,
   "id": "1c8d6a69-c1fe-4150-9b57-2f49840bddae",
   "metadata": {},
   "outputs": [
    {
     "data": {
      "text/plain": [
       "3.217462794607763"
      ]
     },
     "execution_count": 261,
     "metadata": {},
     "output_type": "execute_result"
    }
   ],
   "source": [
    "# avaliando a assimetria\n",
    "taxis['fare'].skew()"
   ]
  },
  {
   "cell_type": "markdown",
   "id": "1207de36-bcd9-4200-8add-ff3ca1e1f1e3",
   "metadata": {},
   "source": [
    "*Conclusão: Identificamos com essa análise a média das tarifas cobradas foram de 13.09 dólares. Enquanto a mediana das tarifas é de 9.5 dólares. <br>\n",
    "Os dados não aparentam estar na forma normal, e existe uma assimetria à direta na sua distribuição (s>0).*\n",
    "\n",
    "*O boxplot à direita nos mostra observações classificadas como outliers. Embora não possamos confirmar que todas elas são de fato outliers, gostariamos de destacar que existem tarifas cobradas maiores que 100 dólares*"
   ]
  },
  {
   "cell_type": "markdown",
   "id": "bb606bb0-a964-4e28-8885-41b9553d1f19",
   "metadata": {},
   "source": [
    "<div style=\"background-color: lightgreen; padding: 10px;\">\n",
    "    <h2>  Análise Exploratória Multivariada\n",
    "</div>"
   ]
  },
  {
   "cell_type": "markdown",
   "id": "533b43ae-40fe-478e-882f-92fb61febea5",
   "metadata": {},
   "source": [
    "Até o momento fizemos análises univariadas, explorando o conteúdo e a distribuição de cada variável, de forma individual.\n",
    "\n",
    "Agora iremos explorar a relação entre duas ou mais variáveis. E para isso, existe um conjunto de métricas que podemos explorar como a **correlação** e a **covariância**.\n",
    "\n",
    "Daremos seguimento no cálculo dessas métricas englobando as mesmas variáveis quantitativas analisadas anteriormente:\n",
    "- Passageiros:\n",
    "- Duração do trajeto;\n",
    "- Distância percorrida;\n",
    "- Tarifa paga;"
   ]
  },
  {
   "cell_type": "markdown",
   "id": "7fdfe53c-47ef-457c-9e1c-6d34c6be222e",
   "metadata": {},
   "source": [
    "<div style=\"background-color: lightgray; padding: 10px;\">\n",
    "    <h3>  Correlações:\n",
    "</div>"
   ]
  },
  {
   "cell_type": "markdown",
   "id": "6febea2d-d86e-47e9-b0ed-73777d930825",
   "metadata": {},
   "source": [
    "Nesse primeiro momento iremos calcular a correlação entre as variáveis quantitativas para entender como elas estão correlacionadas:"
   ]
  },
  {
   "cell_type": "code",
   "execution_count": 262,
   "id": "0232ff29-ba7a-462a-b2d4-5f8383b0ba45",
   "metadata": {},
   "outputs": [
    {
     "data": {
      "text/html": [
       "<div>\n",
       "<style scoped>\n",
       "    .dataframe tbody tr th:only-of-type {\n",
       "        vertical-align: middle;\n",
       "    }\n",
       "\n",
       "    .dataframe tbody tr th {\n",
       "        vertical-align: top;\n",
       "    }\n",
       "\n",
       "    .dataframe thead th {\n",
       "        text-align: right;\n",
       "    }\n",
       "</style>\n",
       "<table border=\"1\" class=\"dataframe\">\n",
       "  <thead>\n",
       "    <tr style=\"text-align: right;\">\n",
       "      <th></th>\n",
       "      <th>passengers</th>\n",
       "      <th>distance</th>\n",
       "      <th>duration_minutes</th>\n",
       "      <th>fare</th>\n",
       "    </tr>\n",
       "  </thead>\n",
       "  <tbody>\n",
       "    <tr>\n",
       "      <th>passengers</th>\n",
       "      <td>1.00</td>\n",
       "      <td>0.01</td>\n",
       "      <td>0.01</td>\n",
       "      <td>0.00</td>\n",
       "    </tr>\n",
       "    <tr>\n",
       "      <th>distance</th>\n",
       "      <td>0.01</td>\n",
       "      <td>1.00</td>\n",
       "      <td>0.87</td>\n",
       "      <td>0.93</td>\n",
       "    </tr>\n",
       "    <tr>\n",
       "      <th>duration_minutes</th>\n",
       "      <td>0.01</td>\n",
       "      <td>0.87</td>\n",
       "      <td>1.00</td>\n",
       "      <td>0.95</td>\n",
       "    </tr>\n",
       "    <tr>\n",
       "      <th>fare</th>\n",
       "      <td>0.00</td>\n",
       "      <td>0.93</td>\n",
       "      <td>0.95</td>\n",
       "      <td>1.00</td>\n",
       "    </tr>\n",
       "  </tbody>\n",
       "</table>\n",
       "</div>"
      ],
      "text/plain": [
       "                  passengers  distance  duration_minutes  fare\n",
       "passengers              1.00      0.01              0.01  0.00\n",
       "distance                0.01      1.00              0.87  0.93\n",
       "duration_minutes        0.01      0.87              1.00  0.95\n",
       "fare                    0.00      0.93              0.95  1.00"
      ]
     },
     "execution_count": 262,
     "metadata": {},
     "output_type": "execute_result"
    }
   ],
   "source": [
    "corr = taxis[['passengers','distance','duration_minutes', 'fare']].corr(method='spearman').round(2)\n",
    "corr"
   ]
  },
  {
   "cell_type": "code",
   "execution_count": 263,
   "id": "c066e2c1-52f9-435a-a154-81bd034ce30d",
   "metadata": {},
   "outputs": [
    {
     "data": {
      "text/plain": [
       "<Axes: >"
      ]
     },
     "execution_count": 263,
     "metadata": {},
     "output_type": "execute_result"
    },
    {
     "data": {
      "image/png": "[encoded data removed]",
      "text/plain": [
       "<Figure size 640x480 with 2 Axes>"
      ]
     },
     "metadata": {},
     "output_type": "display_data"
    }
   ],
   "source": [
    "sns.heatmap(corr,annot=True,cmap=\"OrRd\")"
   ]
  },
  {
   "cell_type": "markdown",
   "id": "e92cdb62-b791-4dc2-9b6d-2982dc0e1691",
   "metadata": {},
   "source": [
    "Recapitulativo do conteúdo aprendido sobre Correlações Lineares:\n",
    "\n",
    "<br>\n",
    "<img src=\"https://www.mathsisfun.com/data/images/correlation-examples.svg\" width=700>\n",
    "<br>\n",
    "\n",
    "Ilustração da diferença entre correlações **lineares** e **não lineares**:\n",
    "<br>\n",
    "<img src=\"https://miro.medium.com/max/1414/1*ZMwog-_YcD0qBHc9_1T1-w.png\" width=700>\n",
    "<br>"
   ]
  },
  {
   "cell_type": "markdown",
   "id": "da8c6b40-6c91-458b-bdef-e212733f2a99",
   "metadata": {},
   "source": [
    "*Conclusão: Identificamos que a variável passageiros não possui correlação com as demais variáveis, pois o valor das correlações é bem próximo de zero.*\n",
    "\n",
    "*Por outro lado, as variáveis duração, distancia e tarifa cobrada possui uma alta correlação positiva entre si, os valores são próximos de 0,9*\n",
    "\n",
    "*A maior correlação identificada foi de 0.95, entre duração e tarifa cobrada, isso significa que, quanto maior a distância percorrida, maior o valor cobrado.*"
   ]
  },
  {
   "cell_type": "markdown",
   "id": "30d05404-ccc7-4d26-af0d-120237fd1109",
   "metadata": {},
   "source": [
    "Abaixo deixaremos o plot do gráfico de dispersão entre essas duas variáveis, evidenciando que existe esse comportamento de correlação linear entre elas. "
   ]
  },
  {
   "cell_type": "code",
   "execution_count": 264,
   "id": "9a53c272-4479-490c-b7a0-bc2a45646358",
   "metadata": {},
   "outputs": [
    {
     "data": {
      "text/plain": [
       "<Axes: xlabel='duration_minutes', ylabel='fare'>"
      ]
     },
     "execution_count": 264,
     "metadata": {},
     "output_type": "execute_result"
    },
    {
     "data": {
      "image/png": "[encoded data removed]",
      "text/plain": [
       "<Figure size 640x480 with 1 Axes>"
      ]
     },
     "metadata": {},
     "output_type": "display_data"
    }
   ],
   "source": [
    "taxis.plot(x='duration_minutes', y='fare', kind='scatter')"
   ]
  },
  {
   "cell_type": "markdown",
   "id": "8b583405-e792-4517-81f9-061018dd9a0f",
   "metadata": {},
   "source": [
    "<div style=\"background-color: lightgray; padding: 10px;\">\n",
    "    <h3>  Covariância:\n",
    "</div>"
   ]
  },
  {
   "cell_type": "markdown",
   "id": "21b6dfee-ad83-4022-a2d6-8ba1bdd32817",
   "metadata": {},
   "source": [
    "A covariância calcula a medida do grau de interdependência (ou inter-relação) entre as variáveis, portanto, queremos entender quais variáveis possuem alta covariância entre si, e quais apresentam maior independência entre si."
   ]
  },
  {
   "cell_type": "markdown",
   "id": "3efa06b5-e241-479d-ad1f-e2c4fa42300c",
   "metadata": {},
   "source": [
    "*A covariância entre as variáveis distância percorrida e tarifa cobrada, é 40.68, mostrando um alto grau de interdependência entre elas.*"
   ]
  },
  {
   "cell_type": "code",
   "execution_count": 265,
   "id": "899ff542-d157-45a5-a7e7-22d7f7a0c30f",
   "metadata": {},
   "outputs": [
    {
     "data": {
      "text/html": [
       "<div>\n",
       "<style scoped>\n",
       "    .dataframe tbody tr th:only-of-type {\n",
       "        vertical-align: middle;\n",
       "    }\n",
       "\n",
       "    .dataframe tbody tr th {\n",
       "        vertical-align: top;\n",
       "    }\n",
       "\n",
       "    .dataframe thead th {\n",
       "        text-align: right;\n",
       "    }\n",
       "</style>\n",
       "<table border=\"1\" class=\"dataframe\">\n",
       "  <thead>\n",
       "    <tr style=\"text-align: right;\">\n",
       "      <th></th>\n",
       "      <th>distance</th>\n",
       "      <th>fare</th>\n",
       "    </tr>\n",
       "  </thead>\n",
       "  <tbody>\n",
       "    <tr>\n",
       "      <th>distance</th>\n",
       "      <td>14.652566</td>\n",
       "      <td>40.686031</td>\n",
       "    </tr>\n",
       "    <tr>\n",
       "      <th>fare</th>\n",
       "      <td>40.686031</td>\n",
       "      <td>133.444182</td>\n",
       "    </tr>\n",
       "  </tbody>\n",
       "</table>\n",
       "</div>"
      ],
      "text/plain": [
       "           distance        fare\n",
       "distance  14.652566   40.686031\n",
       "fare      40.686031  133.444182"
      ]
     },
     "execution_count": 265,
     "metadata": {},
     "output_type": "execute_result"
    }
   ],
   "source": [
    "taxis[['distance', 'fare']].cov()"
   ]
  },
  {
   "cell_type": "markdown",
   "id": "38b6e96b-5eed-444d-a722-1a746a3e8f0c",
   "metadata": {},
   "source": [
    "*A covariância entre as variáveis duração do trajeto e tarifa cobrada, é 114.07, mostrando um alto grau de interdependência entre elas, ainda maior que o resultado anterior.*"
   ]
  },
  {
   "cell_type": "code",
   "execution_count": 266,
   "id": "5bd076cd-93a0-48dc-883c-5ab8721ac6af",
   "metadata": {},
   "outputs": [
    {
     "data": {
      "text/html": [
       "<div>\n",
       "<style scoped>\n",
       "    .dataframe tbody tr th:only-of-type {\n",
       "        vertical-align: middle;\n",
       "    }\n",
       "\n",
       "    .dataframe tbody tr th {\n",
       "        vertical-align: top;\n",
       "    }\n",
       "\n",
       "    .dataframe thead th {\n",
       "        text-align: right;\n",
       "    }\n",
       "</style>\n",
       "<table border=\"1\" class=\"dataframe\">\n",
       "  <thead>\n",
       "    <tr style=\"text-align: right;\">\n",
       "      <th></th>\n",
       "      <th>duration_minutes</th>\n",
       "      <th>fare</th>\n",
       "    </tr>\n",
       "  </thead>\n",
       "  <tbody>\n",
       "    <tr>\n",
       "      <th>duration_minutes</th>\n",
       "      <td>135.580219</td>\n",
       "      <td>114.071835</td>\n",
       "    </tr>\n",
       "    <tr>\n",
       "      <th>fare</th>\n",
       "      <td>114.071835</td>\n",
       "      <td>133.444182</td>\n",
       "    </tr>\n",
       "  </tbody>\n",
       "</table>\n",
       "</div>"
      ],
      "text/plain": [
       "                  duration_minutes        fare\n",
       "duration_minutes        135.580219  114.071835\n",
       "fare                    114.071835  133.444182"
      ]
     },
     "execution_count": 266,
     "metadata": {},
     "output_type": "execute_result"
    }
   ],
   "source": [
    "taxis[['duration_minutes', 'fare']].cov()"
   ]
  },
  {
   "cell_type": "markdown",
   "id": "8af038f0-f1e9-45de-900c-bee9322a31d8",
   "metadata": {},
   "source": [
    "Já quando analisados o resultado entre o nº de passageiros e tarifa cobrada, vemos o valor de 0.10, mostrando dessa vez uma baixa ou quase inexistente inter-dependência.*"
   ]
  },
  {
   "cell_type": "code",
   "execution_count": 267,
   "id": "6a1b2841-994a-4e21-ae1e-3970b71d1ba7",
   "metadata": {},
   "outputs": [
    {
     "data": {
      "text/html": [
       "<div>\n",
       "<style scoped>\n",
       "    .dataframe tbody tr th:only-of-type {\n",
       "        vertical-align: middle;\n",
       "    }\n",
       "\n",
       "    .dataframe tbody tr th {\n",
       "        vertical-align: top;\n",
       "    }\n",
       "\n",
       "    .dataframe thead th {\n",
       "        text-align: right;\n",
       "    }\n",
       "</style>\n",
       "<table border=\"1\" class=\"dataframe\">\n",
       "  <thead>\n",
       "    <tr style=\"text-align: right;\">\n",
       "      <th></th>\n",
       "      <th>passengers</th>\n",
       "      <th>fare</th>\n",
       "    </tr>\n",
       "  </thead>\n",
       "  <tbody>\n",
       "    <tr>\n",
       "      <th>passengers</th>\n",
       "      <td>1.449058</td>\n",
       "      <td>0.106199</td>\n",
       "    </tr>\n",
       "    <tr>\n",
       "      <th>fare</th>\n",
       "      <td>0.106199</td>\n",
       "      <td>133.444182</td>\n",
       "    </tr>\n",
       "  </tbody>\n",
       "</table>\n",
       "</div>"
      ],
      "text/plain": [
       "            passengers        fare\n",
       "passengers    1.449058    0.106199\n",
       "fare          0.106199  133.444182"
      ]
     },
     "execution_count": 267,
     "metadata": {},
     "output_type": "execute_result"
    }
   ],
   "source": [
    "taxis[['passengers', 'fare']].cov()"
   ]
  },
  {
   "cell_type": "markdown",
   "id": "7e2c1ac5-a26f-46b4-8466-d20f61073583",
   "metadata": {},
   "source": [
    "<div style=\"background-color: lightgray; padding: 10px;\">\n",
    "    <h3>  Tabelas de Frequência:\n",
    "</div>"
   ]
  },
  {
   "cell_type": "markdown",
   "id": "f54bc268-c724-4cb5-94d0-a526e7557953",
   "metadata": {},
   "source": [
    "Finalizando nossa análise exploratória das variáveis, iremos calcular também tabelas de frequência cruzando 2 variáveis: ``cor do taxi`` e ``bairro de embarque``:"
   ]
  },
  {
   "cell_type": "code",
   "execution_count": 268,
   "id": "24acb5ab-fb62-4ce5-899b-348b78015187",
   "metadata": {},
   "outputs": [
    {
     "name": "stdout",
     "output_type": "stream",
     "text": [
      "pickup_borough  Bronx  Brooklyn  Manhattan  Queens\n",
      "color                                             \n",
      "green              83       313        294     288\n",
      "yellow             16        70       4974     369\n"
     ]
    }
   ],
   "source": [
    "cross_table = pd.crosstab(taxis['color'], taxis['pickup_borough'])\n",
    "print(cross_table)"
   ]
  },
  {
   "cell_type": "code",
   "execution_count": 269,
   "id": "725ac5bd-d1ad-4792-bec7-b9f9d2b1dac1",
   "metadata": {},
   "outputs": [
    {
     "name": "stdout",
     "output_type": "stream",
     "text": [
      "pickup_borough     Bronx  Brooklyn  Manhattan    Queens\n",
      "color                                                  \n",
      "green           1.295458  4.885282   4.588731  4.495084\n",
      "yellow          0.249727  1.092555  77.633838  5.759326\n"
     ]
    }
   ],
   "source": [
    "cross_table = pd.crosstab(taxis['color'], taxis['pickup_borough'], normalize=True)*100\n",
    "print(cross_table)"
   ]
  },
  {
   "cell_type": "code",
   "execution_count": 270,
   "id": "7d515f66-9cea-4084-8b25-d4c2e005ce91",
   "metadata": {},
   "outputs": [
    {
     "data": {
      "text/plain": [
       "color   pickup_borough\n",
       "yellow  Manhattan         77.633838\n",
       "        Queens             5.759326\n",
       "green   Brooklyn           4.885282\n",
       "        Manhattan          4.588731\n",
       "        Queens             4.495084\n",
       "        Bronx              1.295458\n",
       "yellow  Brooklyn           1.092555\n",
       "        Bronx              0.249727\n",
       "dtype: float64"
      ]
     },
     "execution_count": 270,
     "metadata": {},
     "output_type": "execute_result"
    }
   ],
   "source": [
    "taxis[['color', 'pickup_borough']].value_counts(normalize=True)*100"
   ]
  },
  {
   "cell_type": "markdown",
   "id": "2190dc0d-e380-45d4-9a7b-3305cb30ca7a",
   "metadata": {},
   "source": [
    "*Conclusão: Identificamos que os taxis amarelos buscam passageiros na sua maior parte na ilha de Manhattan. Além disso, e que essa região representa também a maior ocorrência de embarques, são mais de 5000 embarques nessa região.*\n",
    "\n",
    "*Analisando a ótica dos taxis verdes, por outro lado, a maior quantidade de embarques é feita no Brooklyn, diferente dos taxis amarelos.*"
   ]
  },
  {
   "cell_type": "markdown",
   "id": "c78506c3-2a21-4b22-897d-ffabe1f298e2",
   "metadata": {},
   "source": [
    "<div style=\"background-color: lightgreen; padding: 10px;\">\n",
    "    <h2>  Probabilidades\n",
    "</div>"
   ]
  },
  {
   "cell_type": "markdown",
   "id": "144a2311-c72a-469d-af63-804ddb04ce4c",
   "metadata": {},
   "source": [
    "Nesta seção iremos aplicar os conceitos de probabilidade aprendidos em sala de aula.\n",
    "\n",
    "Desejamos entender dado um determinado evento, qual a probabilidade de outro evento acontecer?\n",
    "\n",
    "Pois bem, levantamos durante a etapa de leitura e exploração dos dados alguns **questionamentos**. \n",
    "\n",
    "Será que dada a **cor** do taxi, há influência na probabilidade da ocorrência de determinado local de embarque em nossa amostra?\n",
    "\n",
    "Queremos atestar:\n",
    "- dado que o taxi é amarelo, qual a probabilidade de que o ponto de partida é a Ilha de Manhattan?\n",
    "- caso o taxi seja verde, qual a probabilidade de que o ponto de partida é a Ilha de Manhattan?"
   ]
  },
  {
   "cell_type": "markdown",
   "id": "7a9050ac-86c3-4a43-bbe1-b8db46e78023",
   "metadata": {},
   "source": [
    "---\n",
    "##### Relembrando o conteúdo de Probabilidade Condicional:\n",
    "\n",
    "Seja dois eventos A e B, a probabilidade condicional entre esses eventos é definada como:\n",
    "    \n",
    "$$ P(A | B) = \\frac{P(A ∩ B)}{P(B)} $$\n",
    "\n",
    "Lembrando que isso é possível se e somente se $ P(B) > 0$.\n",
    "\n",
    "A forma mais comum de ler um problema de probabilidade condicional seria __\"qual a probabilidade de ocorrer o evento A, dado que ocorreu o evento B\"__."
   ]
  },
  {
   "cell_type": "markdown",
   "id": "484f224b-bcf8-4d1b-a9cc-2233003505b6",
   "metadata": {},
   "source": [
    "---\n",
    "- Inicialmente vamos calcular a probabilidade de ocorrer o pickoff_borough em ``Manhattan`` dado que o taxi é ``amarelo``:"
   ]
  },
  {
   "cell_type": "code",
   "execution_count": 271,
   "id": "1c6d996f-9b2b-41b7-bff6-49349d480882",
   "metadata": {},
   "outputs": [
    {
     "data": {
      "text/plain": [
       "0.8473496036064044"
      ]
     },
     "execution_count": 271,
     "metadata": {},
     "output_type": "execute_result"
    }
   ],
   "source": [
    "# Probabilidade de um taxi ser amarelo -> P(Y) = S(Y)/S(W)\n",
    "prob_yellow_taxi = len(taxis[taxis['color'] == 'yellow']) / len(taxis)\n",
    "prob_yellow_taxi "
   ]
  },
  {
   "cell_type": "code",
   "execution_count": 272,
   "id": "6cbfaeca-3bd3-47c0-9607-3f1599aff429",
   "metadata": {},
   "outputs": [
    {
     "data": {
      "text/plain": [
       "0.7732006839732629"
      ]
     },
     "execution_count": 272,
     "metadata": {},
     "output_type": "execute_result"
    }
   ],
   "source": [
    "# Probabilidade de pickoff_borough ser em Manhattan e o taxi ser amarelo -> P(M ∩ Y) = S(M ∩ Y)/ S(w)\n",
    "prob_manhattan_and_yellow = (len(taxis[(taxis['color'] == 'yellow') & (taxis['pickup_borough'] == 'Manhattan')]) / len(taxis))\n",
    "prob_manhattan_and_yellow"
   ]
  },
  {
   "cell_type": "code",
   "execution_count": 273,
   "id": "02b8dceb-2156-43d1-bdf4-cfa28b895e03",
   "metadata": {},
   "outputs": [
    {
     "data": {
      "text/plain": [
       "0.9124931205283435"
      ]
     },
     "execution_count": 273,
     "metadata": {},
     "output_type": "execute_result"
    }
   ],
   "source": [
    "# Probabilidade de pickoff_borough ser em Manhattan dado que o taxi é amarelo -> P(M|Y) = P(M ∩ Y) / P(Y) \n",
    "prob_manhattan_given_yellow = (prob_manhattan_and_yellow / prob_yellow_taxi )\n",
    "prob_manhattan_given_yellow"
   ]
  },
  {
   "cell_type": "markdown",
   "id": "4013ebab-d1cd-4123-a9e5-58bcf76770a6",
   "metadata": {},
   "source": [
    "---\n",
    "- Agora vamos calcular a probabilidade de ocorrer o pickoff_borough em ``Manhattan`` dado que o taxi é ``verde``:"
   ]
  },
  {
   "cell_type": "code",
   "execution_count": 274,
   "id": "9a07500d-9c4f-4a1d-9b85-41e6752fbda3",
   "metadata": {},
   "outputs": [
    {
     "data": {
      "text/plain": [
       "0.1526503963935955"
      ]
     },
     "execution_count": 274,
     "metadata": {},
     "output_type": "execute_result"
    }
   ],
   "source": [
    "# Probabilidade de um taxi ser verde -> P(G) = S(G)/S(w)\n",
    "prob_green_taxi = len(taxis[taxis['color'] == 'green']) / len(taxis)\n",
    "prob_green_taxi "
   ]
  },
  {
   "cell_type": "code",
   "execution_count": 275,
   "id": "8af8aa24-f9de-4fbf-8101-d1312d89df42",
   "metadata": {},
   "outputs": [
    {
     "data": {
      "text/plain": [
       "0.04570184983677911"
      ]
     },
     "execution_count": 275,
     "metadata": {},
     "output_type": "execute_result"
    }
   ],
   "source": [
    "# Probabilidade de pickoff_borough ser em Manhattan e o taxi ser verde -> P(M ∩ G) = S(M ∩ G)/ S(w)\n",
    "prob_manhattan_and_green = (len(taxis[(taxis['color'] == 'green') & (taxis['pickup_borough'] == 'Manhattan')]) / len(taxis))\n",
    "prob_manhattan_and_green"
   ]
  },
  {
   "cell_type": "code",
   "execution_count": 276,
   "id": "cc41955d-a5d4-4bb9-9289-3f21feabf98f",
   "metadata": {},
   "outputs": [
    {
     "data": {
      "text/plain": [
       "0.2993890020366599"
      ]
     },
     "execution_count": 276,
     "metadata": {},
     "output_type": "execute_result"
    }
   ],
   "source": [
    "# Probabilidade de pickoff_borough ser em Manhattan dado que o taxi é verde -> P(M|G) = P(M ∩ G) / P(Y) \n",
    "prob_manhattan_given_green = (prob_manhattan_and_green / prob_green_taxi )\n",
    "prob_manhattan_given_green"
   ]
  },
  {
   "cell_type": "markdown",
   "id": "60df30cd-b197-46fd-b77d-8d974696572c",
   "metadata": {},
   "source": [
    "*Conclusão: De acordo com os resultados a probabilidade de o pickoff ter sido na ilha de Manhattan é **91%** nos casos em que o taxi é ``amarelo``, contra **30%** quando o taxi é ``verde``. \n",
    "<br>\n",
    "Isso nos faz levantar possibilidades em que a frota de taxis amarelos pode ser maior, ou há um certo tipo de jurisdição ou preferência para que os taxis amarelos atuem com maior frequência na ilha do que os verdes. \n",
    "<br>\n",
    "De toda forma, concluimos que há de fato uma certa influência na probabilidade de o pickoff ter sido em Manhattan dada a cor de um taxi.*"
   ]
  },
  {
   "cell_type": "markdown",
   "id": "fdc6cc1c-c1ac-4713-bac1-7dfcf3aded1f",
   "metadata": {},
   "source": [
    "<div style=\"background-color: lightgreen; padding: 10px;\">\n",
    "    <h2>  Testes de Hipótese\n",
    "</div>"
   ]
  },
  {
   "cell_type": "markdown",
   "id": "974d9f59-4576-4d19-9602-0924276e606b",
   "metadata": {},
   "source": [
    "Nesta seção iremos aplicar os conceitos de testes de hipótese afim de responder a alguns questionamentos.\n",
    "\n",
    "- Viagens em que há pagamento de pedágio possuem uma duração maior do que viagens sem pedágio?\n",
    "\n",
    "- Existe diferença no valor cobrado da tarifa por distância percorrida em função da cor do taxi?"
   ]
  },
  {
   "cell_type": "markdown",
   "id": "2f9321b8-a381-4e53-a5d8-8843267750f7",
   "metadata": {},
   "source": [
    "<div style=\"background-color: lightgray; padding: 10px;\">\n",
    "    <h3>  Hipótese sobre a duração dos trajetos\n",
    "</div>"
   ]
  },
  {
   "cell_type": "markdown",
   "id": "0f59de15-2c8e-4e34-b749-5733aedaa2a7",
   "metadata": {},
   "source": [
    "**Motivação:** Dado que os dados trazem a informação dos pedágios pagos, quando há, desejamos verificar se a presença dos pedágios afeta a duração das viagens. Portanto, gostaríamos de atestar se viagens com pedágio possuem duração maior do que as sem pedágio.\n",
    "\n",
    "Para isso, precisamos considerar em nossa amostra somente viagens com duração > 0, para que algumas observações não causem um viés em nossos resul"
   ]
  },
  {
   "cell_type": "code",
   "execution_count": 280,
   "id": "d1be24ee-ff1c-429b-91c3-12839b716742",
   "metadata": {},
   "outputs": [
    {
     "data": {
      "text/plain": [
       "(6427, 17)"
      ]
     },
     "execution_count": 280,
     "metadata": {},
     "output_type": "execute_result"
    }
   ],
   "source": [
    "taxis_filtered = taxis[taxis['duration_minutes'] > 0]\n",
    "taxis_filtered.shape"
   ]
  },
  {
   "cell_type": "markdown",
   "id": "9b25bec1-be02-47ba-89c2-764d379d80b8",
   "metadata": {},
   "source": [
    "Além disso, vamos criar também uma variável que nos informa se houve a presença de pedágio ou não durante o trajeto:"
   ]
  },
  {
   "cell_type": "code",
   "execution_count": 284,
   "id": "6b8be001-8d95-40c8-a2ba-1995f56ddbbc",
   "metadata": {},
   "outputs": [
    {
     "name": "stderr",
     "output_type": "stream",
     "text": [
      "C:\\Users\\Andre\\AppData\\Local\\Temp\\ipykernel_5552\\3455760955.py:1: SettingWithCopyWarning: \n",
      "A value is trying to be set on a copy of a slice from a DataFrame.\n",
      "Try using .loc[row_indexer,col_indexer] = value instead\n",
      "\n",
      "See the caveats in the documentation: https://pandas.pydata.org/pandas-docs/stable/user_guide/indexing.html#returning-a-view-versus-a-copy\n",
      "  taxis_filtered['has_tolls'] = taxis_filtered['tolls'] > 0\n"
     ]
    },
    {
     "data": {
      "text/plain": [
       "False    6077\n",
       "True      350\n",
       "Name: has_tolls, dtype: int64"
      ]
     },
     "execution_count": 284,
     "metadata": {},
     "output_type": "execute_result"
    }
   ],
   "source": [
    "taxis_filtered['has_tolls'] = taxis_filtered['tolls'] > 0\n",
    "taxis_filtered['has_tolls'].value_counts()"
   ]
  },
  {
   "cell_type": "code",
   "execution_count": 292,
   "id": "aae196b3-74ee-433c-8710-caf933ca9a14",
   "metadata": {},
   "outputs": [
    {
     "name": "stdout",
     "output_type": "stream",
     "text": [
      "            count       mean        std       min        25%        50%  \\\n",
      "has_tolls                                                                 \n",
      "False      6077.0  13.058250   9.950341  0.033333   6.333333  10.366667   \n",
      "True        350.0  37.017429  15.070180  0.216667  26.508333  35.025000   \n",
      "\n",
      "                 75%         max  \n",
      "has_tolls                         \n",
      "False      17.083333  107.666667  \n",
      "True       45.912500   89.883333  \n"
     ]
    }
   ],
   "source": [
    "# Calcular as estatísticas descritivas dos trajetos com e sem pedágio:\n",
    "stat_duration_has_tolls = taxis_filtered.groupby('has_tolls')['duration_minutes'].describe()\n",
    "\n",
    "# Exibir os resultados\n",
    "print(stat_duration_has_tolls)"
   ]
  },
  {
   "cell_type": "markdown",
   "id": "bfd24660-9a0a-4e7b-b46b-6855ffb41260",
   "metadata": {},
   "source": [
    "---\n",
    "*Continuar após a aula.*"
   ]
  },
  {
   "cell_type": "code",
   "execution_count": 285,
   "id": "33eae8c4-6983-4a0c-88cd-42b14d089f85",
   "metadata": {},
   "outputs": [],
   "source": [
    "# preparar a conclusão"
   ]
  },
  {
   "cell_type": "markdown",
   "id": "e46a8663-5f30-4419-abef-314e4df764c8",
   "metadata": {},
   "source": [
    "<div style=\"background-color: lightgray; padding: 10px;\">\n",
    "    <h3>  Hipótese do valor cobrado por distância percorrida\n",
    "</div>"
   ]
  },
  {
   "cell_type": "markdown",
   "id": "f667626a-202a-4894-95c9-05a33c1b5545",
   "metadata": {},
   "source": []
  },
  {
   "cell_type": "code",
   "execution_count": null,
   "id": "f0986d23-2712-486d-af28-4f8bcf4e0186",
   "metadata": {},
   "outputs": [],
   "source": [
    "hip_fare_per_distance = taxis[taxis['distance'] != 0]\n",
    "hip_fare_per_distance.shape"
   ]
  },
  {
   "cell_type": "code",
   "execution_count": null,
   "id": "898fc504-e6a7-4db9-a5bc-3a664ecb65af",
   "metadata": {},
   "outputs": [],
   "source": []
  },
  {
   "cell_type": "markdown",
   "id": "ecf6fd40-0df2-4c33-a325-868eddd004e2",
   "metadata": {},
   "source": [
    "<div style=\"background-color: lightgreen; padding: 10px;\">\n",
    "    <h2>  Conclusões\n",
    "</div>"
   ]
  },
  {
   "cell_type": "markdown",
   "id": "a2fe0f07-8876-499c-8fad-44e363824b68",
   "metadata": {},
   "source": [
    "Este projeto buscou aplicar os conhecimentos de ``Estatística`` e ``Python`` adquiridos no módulo de **Estatística I** por meio da aplicação prática, utilizando dados que simulam a realidade.\n",
    "\n",
    "Foi possível explorar um conjunto de dados com ``14 colunas`` que compõem uma amostra de observações de **viagens de taxi**.\n",
    "\n",
    "Durante a etapa inicial, estivemos atentos com a documentação da base e realizamos o seu carregamento.\n",
    "\n",
    "Durante a etapa de leitura, buscamos entender quais as informações a tabela apresentava em suas colunas.\n",
    "\n",
    "Em seguida, durante a análise exploratória, buscamos entender melhor sobre a distribuições dos dados quantitativos e extrair suas estatísticas descritivas.\n",
    "\n",
    "E por fim, aplicamos também os conceitos de probabilidade e testes de hipóteses para responder a alguns questionamentos de negócio.\n",
    "\n",
    "Obrigado pela atenção de todos. \n",
    "Fiquem à vontade para apresentar melhorias nos códigos."
   ]
  }
 ],
 "metadata": {
  "kernelspec": {
   "display_name": "Python 3 (ipykernel)",
   "language": "python",
   "name": "python3"
  },
  "language_info": {
   "codemirror_mode": {
    "name": "ipython",
    "version": 3
   },
   "file_extension": ".py",
   "mimetype": "text/x-python",
   "name": "python",
   "nbconvert_exporter": "python",
   "pygments_lexer": "ipython3",
   "version": "3.11.5"
  }
 },
 "nbformat": 4,
 "nbformat_minor": 5
}
