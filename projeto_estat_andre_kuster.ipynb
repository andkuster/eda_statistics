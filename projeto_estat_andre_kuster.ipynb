{
 "cells": [
  {
   "cell_type": "markdown",
   "id": "4596d10f-a2b2-458f-a7b6-8346a31dc1fd",
   "metadata": {},
   "source": [
    "<div style=\"background-color: lightgreen; padding: 10px;\">\n",
    "    <h2> Projeto | Análise Exploratória de Dados (EDA) - Estatística\n",
    "</div>"
   ]
  },
  {
   "attachments": {},
   "cell_type": "markdown",
   "id": "fd3a4f7b-63ae-456c-bef7-e2167af0907e",
   "metadata": {},
   "source": [
    "### Aluno:\n",
    "André R. Kuster | nº: 1116029\n",
    "\n",
    "### Objetivo:\n",
    "\n",
    "O objetivo deste projeto é aplicar os conhecimentos adquiridos ao longo da disciplina de **Estatística 1** em um contexto prático, utilizando um conjunto de dados, a ﬁm de praticar conceitos de estatística descritiva aprendidos em sala de aula, entender sobre as distribuições dos dados e extrair possíveis insights por meio de testes de hipóteses.\n",
    "\n",
    "### Base de Dados:\n",
    "Será utilizado conjunto de dados público de trajetos feitos por taxis de Nova York, termo popularmente conhecido como \"corridas de taxi\". A base contém informações sobre o trajeto (ponto de partida e de chegada), horário de partida e de chegada, quantidade de passageiros e também sobre as tarifas cobradas. Este projeto visa identificar as estatísticas descritivas dessas variáveis, entender as possíveis distribuições, e explorar algum teste de hipótese que possa evidenciar alguma relevância estatística ou responder a alguma pergunta de negócio.\n",
    "\n",
    "A **imagem abaixo** mostra uma representação gráfica da cidade de Nova York, com cores simbolizando seus 5 bairros, que veremos mais adiante presentes na malha desses trajetos.\n",
    "\n",
    "<img src=\"https://lovingnewyork.com.br/wp-content/uploads/2018/11/como-chegar-em-nova-york-bairros-1024x972.jpg\" width=\"400\"/>\n",
    "\n",
    "### Ferramentas:\n",
    "NumPy, Pandas, Matplotlib, Seaborn\n",
    "\n",
    "### Referências:\n",
    "- https://pandas.pydata.org\n",
    "- https://seaborn.pydata.org/generated/seaborn.load_dataset.html\n",
    "- https://github.com/mwaskom/seaborn-data\n",
    "- https://www.nyc.gov/site/tlc/about/tlc-trip-record-data.page"
   ]
  },
  {
   "cell_type": "markdown",
   "id": "c68a009e-822c-4493-917f-4833cb125015",
   "metadata": {},
   "source": [
    "<div style=\"background-color: lightgreen; padding: 10px;\">\n",
    "    <h2> Importação das bibliotecas\n",
    "</div>"
   ]
  },
  {
   "cell_type": "markdown",
   "id": "eb92ef5b-4e5f-477b-ab8e-1c532683ab4e",
   "metadata": {},
   "source": [
    "Inicialmente iremos importar o NumPy, Pandas e o Seaborn, utilizando respectivamente os alias ``np``, ``pd`` e ``sns``. \n",
    "\n",
    "Essas bibliotecas serão utilizados para manipular os dados que estudaremos a seguir."
   ]
  },
  {
   "cell_type": "code",
   "execution_count": 1,
   "id": "11acb55b-ffed-4bf7-b479-21abbebe8a35",
   "metadata": {},
   "outputs": [],
   "source": [
    "import numpy as np\n",
    "import pandas as pd \n",
    "import seaborn as sns\n",
    "import matplotlib.pyplot as plt"
   ]
  },
  {
   "cell_type": "markdown",
   "id": "dae63eb7-ed7c-4fda-97d7-bab7185eca96",
   "metadata": {},
   "source": [
    "<div style=\"background-color: lightgreen; padding: 10px;\">\n",
    "    <h2> Escolha da base de dados\n",
    "</div>"
   ]
  },
  {
   "cell_type": "markdown",
   "id": "1ac8b66c-2057-4ec4-acca-5f9cada4d76a",
   "metadata": {},
   "source": [
    "Abaixo listaremos as bases de dados disponíveis na biblioteca ``Seaborn``:"
   ]
  },
  {
   "cell_type": "code",
   "execution_count": 15,
   "id": "675f0ec5-ae40-4d59-8657-fae376249110",
   "metadata": {},
   "outputs": [
    {
     "name": "stdout",
     "output_type": "stream",
     "text": [
      "['anagrams', 'anscombe', 'attention', 'brain_networks', 'car_crashes', 'diamonds', 'dots', 'dowjones', 'exercise', 'flights', 'fmri', 'geyser', 'glue', 'healthexp', 'iris', 'mpg', 'penguins', 'planets', 'seaice', 'taxis', 'tips', 'titanic']\n"
     ]
    }
   ],
   "source": [
    "datasets = sns.get_dataset_names()\n",
    "print(datasets[:22])"
   ]
  },
  {
   "cell_type": "markdown",
   "id": "475e8316-641c-4576-b4da-070c48ab8da6",
   "metadata": {},
   "source": [
    "Após consultarmos o Github de algumas dessas bases, optamos pela base ``taxis``, uma amostra da base originalmente disponível neste website:\n",
    "- https://www.nyc.gov/site/tlc/about/tlc-trip-record-data.page"
   ]
  },
  {
   "cell_type": "markdown",
   "id": "998e879d-1093-4ab8-80a0-1fd5a40609c0",
   "metadata": {},
   "source": [
    "A documentação nos mostra que a base possui as seguintes colunas:\n",
    "\n",
    "| Coluna           | Descrição                                                                                              |\n",
    "|------------------|--------------------------------------------------------------------------------------------------------|\n",
    "| pickup           | Representa a data-hora em que o passageiro foi pego pelo táxi.                                  |\n",
    "| dropoff          | Representa a data-hora em que o passageiro foi deixado pelo táxi.                                            |\n",
    "| passengers       | Indica o número de passageiros no táxi durante a viagem.                                                |\n",
    "| distance         | Mostra a distância percorrida durante a viagem de táxi.                                                 |\n",
    "| fare             | O valor total da tarifa cobrada pelo táxi pela viagem.                                                  |\n",
    "| tip              | Representa o valor da gorjeta dada pelo passageiro ao motorista (somente em cartão de crédito)          |\n",
    "| tolls            | Refere-se ao valor dos pedágios pagos durante a viagem.                                                 |\n",
    "| total            | Indica o custo total da viagem, incluindo a tarifa, gorjeta, pedágios e outras taxas.                   |\n",
    "| color            | Indicar a cor do táxi (atualmente 2 tipos de taxis operam em NYC de acordo com a documentação).          |\n",
    "| payment          | Indica o método de pagamento utilizado pelo passageiro para pagar a viagem.                              |\n",
    "| pickup_zone      | Refere-se à zona ou área onde o passageiro foi pego pelo táxi.                                           |\n",
    "| dropoff_zone     | Representa a zona ou área onde o passageiro foi deixado pelo táxi.                                       |\n",
    "| pickup_borough   | Indica o bairro onde o passageiro foi pego pelo táxi.                                                   |\n",
    "| dropoff_borough  | Representa o bairro onde o passageiro foi deixado pelo táxi.                                             |\n",
    "\n",
    "Essas colunas fornecem informações detalhadas sobre as viagens, incluindo detalhes sobre tempo, localização, custo e pagamento. A seguir, estudaremos mais sobre a distribuição e sobre as estatísticas descritivas em buscar de padrões e possíveis perguntas de negócio que possam ser respondidas."
   ]
  },
  {
   "cell_type": "markdown",
   "id": "c591ab89-7254-4e58-be48-1faa9c23d3cb",
   "metadata": {},
   "source": [
    "<div style=\"background-color: lightgreen; padding: 10px;\">\n",
    "    <h2> Leitura da base de dados\n",
    "</div>"
   ]
  },
  {
   "cell_type": "markdown",
   "id": "1be97380-3aba-4313-8ede-cbd16cede346",
   "metadata": {},
   "source": [
    "Após o carregamento das bases de dados, iremos avançar para a etapa de leitura e para o discovery das informações apresentadas."
   ]
  },
  {
   "cell_type": "code",
   "execution_count": 2,
   "id": "074ab36a-8d87-4664-8dcb-15480b00a72f",
   "metadata": {},
   "outputs": [
    {
     "data": {
      "text/html": [
       "<div>\n",
       "<style scoped>\n",
       "    .dataframe tbody tr th:only-of-type {\n",
       "        vertical-align: middle;\n",
       "    }\n",
       "\n",
       "    .dataframe tbody tr th {\n",
       "        vertical-align: top;\n",
       "    }\n",
       "\n",
       "    .dataframe thead th {\n",
       "        text-align: right;\n",
       "    }\n",
       "</style>\n",
       "<table border=\"1\" class=\"dataframe\">\n",
       "  <thead>\n",
       "    <tr style=\"text-align: right;\">\n",
       "      <th></th>\n",
       "      <th>pickup</th>\n",
       "      <th>dropoff</th>\n",
       "      <th>passengers</th>\n",
       "      <th>distance</th>\n",
       "      <th>fare</th>\n",
       "      <th>tip</th>\n",
       "      <th>tolls</th>\n",
       "      <th>total</th>\n",
       "      <th>color</th>\n",
       "      <th>payment</th>\n",
       "      <th>pickup_zone</th>\n",
       "      <th>dropoff_zone</th>\n",
       "      <th>pickup_borough</th>\n",
       "      <th>dropoff_borough</th>\n",
       "    </tr>\n",
       "  </thead>\n",
       "  <tbody>\n",
       "    <tr>\n",
       "      <th>0</th>\n",
       "      <td>2019-03-23 20:21:09</td>\n",
       "      <td>2019-03-23 20:27:24</td>\n",
       "      <td>1</td>\n",
       "      <td>1.60</td>\n",
       "      <td>7.0</td>\n",
       "      <td>2.15</td>\n",
       "      <td>0.0</td>\n",
       "      <td>12.95</td>\n",
       "      <td>yellow</td>\n",
       "      <td>credit card</td>\n",
       "      <td>Lenox Hill West</td>\n",
       "      <td>UN/Turtle Bay South</td>\n",
       "      <td>Manhattan</td>\n",
       "      <td>Manhattan</td>\n",
       "    </tr>\n",
       "    <tr>\n",
       "      <th>1</th>\n",
       "      <td>2019-03-04 16:11:55</td>\n",
       "      <td>2019-03-04 16:19:00</td>\n",
       "      <td>1</td>\n",
       "      <td>0.79</td>\n",
       "      <td>5.0</td>\n",
       "      <td>0.00</td>\n",
       "      <td>0.0</td>\n",
       "      <td>9.30</td>\n",
       "      <td>yellow</td>\n",
       "      <td>cash</td>\n",
       "      <td>Upper West Side South</td>\n",
       "      <td>Upper West Side South</td>\n",
       "      <td>Manhattan</td>\n",
       "      <td>Manhattan</td>\n",
       "    </tr>\n",
       "    <tr>\n",
       "      <th>2</th>\n",
       "      <td>2019-03-27 17:53:01</td>\n",
       "      <td>2019-03-27 18:00:25</td>\n",
       "      <td>1</td>\n",
       "      <td>1.37</td>\n",
       "      <td>7.5</td>\n",
       "      <td>2.36</td>\n",
       "      <td>0.0</td>\n",
       "      <td>14.16</td>\n",
       "      <td>yellow</td>\n",
       "      <td>credit card</td>\n",
       "      <td>Alphabet City</td>\n",
       "      <td>West Village</td>\n",
       "      <td>Manhattan</td>\n",
       "      <td>Manhattan</td>\n",
       "    </tr>\n",
       "    <tr>\n",
       "      <th>3</th>\n",
       "      <td>2019-03-10 01:23:59</td>\n",
       "      <td>2019-03-10 01:49:51</td>\n",
       "      <td>1</td>\n",
       "      <td>7.70</td>\n",
       "      <td>27.0</td>\n",
       "      <td>6.15</td>\n",
       "      <td>0.0</td>\n",
       "      <td>36.95</td>\n",
       "      <td>yellow</td>\n",
       "      <td>credit card</td>\n",
       "      <td>Hudson Sq</td>\n",
       "      <td>Yorkville West</td>\n",
       "      <td>Manhattan</td>\n",
       "      <td>Manhattan</td>\n",
       "    </tr>\n",
       "    <tr>\n",
       "      <th>4</th>\n",
       "      <td>2019-03-30 13:27:42</td>\n",
       "      <td>2019-03-30 13:37:14</td>\n",
       "      <td>3</td>\n",
       "      <td>2.16</td>\n",
       "      <td>9.0</td>\n",
       "      <td>1.10</td>\n",
       "      <td>0.0</td>\n",
       "      <td>13.40</td>\n",
       "      <td>yellow</td>\n",
       "      <td>credit card</td>\n",
       "      <td>Midtown East</td>\n",
       "      <td>Yorkville West</td>\n",
       "      <td>Manhattan</td>\n",
       "      <td>Manhattan</td>\n",
       "    </tr>\n",
       "  </tbody>\n",
       "</table>\n",
       "</div>"
      ],
      "text/plain": [
       "               pickup             dropoff  passengers  distance  fare   tip  \\\n",
       "0 2019-03-23 20:21:09 2019-03-23 20:27:24           1      1.60   7.0  2.15   \n",
       "1 2019-03-04 16:11:55 2019-03-04 16:19:00           1      0.79   5.0  0.00   \n",
       "2 2019-03-27 17:53:01 2019-03-27 18:00:25           1      1.37   7.5  2.36   \n",
       "3 2019-03-10 01:23:59 2019-03-10 01:49:51           1      7.70  27.0  6.15   \n",
       "4 2019-03-30 13:27:42 2019-03-30 13:37:14           3      2.16   9.0  1.10   \n",
       "\n",
       "   tolls  total   color      payment            pickup_zone  \\\n",
       "0    0.0  12.95  yellow  credit card        Lenox Hill West   \n",
       "1    0.0   9.30  yellow         cash  Upper West Side South   \n",
       "2    0.0  14.16  yellow  credit card          Alphabet City   \n",
       "3    0.0  36.95  yellow  credit card              Hudson Sq   \n",
       "4    0.0  13.40  yellow  credit card           Midtown East   \n",
       "\n",
       "            dropoff_zone pickup_borough dropoff_borough  \n",
       "0    UN/Turtle Bay South      Manhattan       Manhattan  \n",
       "1  Upper West Side South      Manhattan       Manhattan  \n",
       "2           West Village      Manhattan       Manhattan  \n",
       "3         Yorkville West      Manhattan       Manhattan  \n",
       "4         Yorkville West      Manhattan       Manhattan  "
      ]
     },
     "execution_count": 2,
     "metadata": {},
     "output_type": "execute_result"
    }
   ],
   "source": [
    "taxis = sns.load_dataset('taxis')\n",
    "taxis.head()"
   ]
  },
  {
   "cell_type": "markdown",
   "id": "0e49306e-ce91-4d32-abad-867d434e7f94",
   "metadata": {},
   "source": [
    "Inicialmente visualizamos as 5 primeiras observações da base, e também visualizamos o tamanho da base e as informações sobre as tipagens dos atributos:"
   ]
  },
  {
   "cell_type": "code",
   "execution_count": 17,
   "id": "74c60bcb-6ae9-430e-a86d-94fa8ff130aa",
   "metadata": {},
   "outputs": [
    {
     "data": {
      "text/plain": [
       "(6433, 14)"
      ]
     },
     "execution_count": 17,
     "metadata": {},
     "output_type": "execute_result"
    }
   ],
   "source": [
    "taxis.shape"
   ]
  },
  {
   "cell_type": "code",
   "execution_count": 18,
   "id": "9e535f02-cbca-4c4b-a5b6-ac2bca7dfedf",
   "metadata": {},
   "outputs": [
    {
     "name": "stdout",
     "output_type": "stream",
     "text": [
      "<class 'pandas.core.frame.DataFrame'>\n",
      "RangeIndex: 6433 entries, 0 to 6432\n",
      "Data columns (total 14 columns):\n",
      " #   Column           Non-Null Count  Dtype         \n",
      "---  ------           --------------  -----         \n",
      " 0   pickup           6433 non-null   datetime64[ns]\n",
      " 1   dropoff          6433 non-null   datetime64[ns]\n",
      " 2   passengers       6433 non-null   int64         \n",
      " 3   distance         6433 non-null   float64       \n",
      " 4   fare             6433 non-null   float64       \n",
      " 5   tip              6433 non-null   float64       \n",
      " 6   tolls            6433 non-null   float64       \n",
      " 7   total            6433 non-null   float64       \n",
      " 8   color            6433 non-null   object        \n",
      " 9   payment          6389 non-null   object        \n",
      " 10  pickup_zone      6407 non-null   object        \n",
      " 11  dropoff_zone     6388 non-null   object        \n",
      " 12  pickup_borough   6407 non-null   object        \n",
      " 13  dropoff_borough  6388 non-null   object        \n",
      "dtypes: datetime64[ns](2), float64(5), int64(1), object(6)\n",
      "memory usage: 703.7+ KB\n"
     ]
    }
   ],
   "source": [
    "taxis.info()"
   ]
  },
  {
   "cell_type": "markdown",
   "id": "9c7d48b5-328d-44c0-aafd-3b159b675570",
   "metadata": {},
   "source": [
    "*Conclusão: São 6433 registros de viagens e 14 colunas disponíveis para explorarmos. Quanto aos tipos, existem ``datetime``, ``int`` para o número de passageiros, ``float`` para as distâncias e tarifas, e ``objects`` representando as variáveis em strings em nosso dataframe*"
   ]
  },
  {
   "cell_type": "markdown",
   "id": "8241c5ba-35cf-4acc-ba18-fea413291853",
   "metadata": {},
   "source": [
    "*Abaixo apresentamos uma tabela contendo o sumário com o nome das variáveis, seus tipos e classificações:*\n",
    "\n",
    "| Nome da Variável | Tipo      | Classificação         |\n",
    "|------------------|-----------|-----------------------|\n",
    "| pickup           | datetime  | Quantitativa Contínua / Qualitativa Ordinal |\n",
    "| dropoff          | datetime  | Quantitativa Contínua / Qualitativa Ordinal |\n",
    "| passengers       | int       | Quantitativa Discreta |\n",
    "| distance         | float     | Quantitativa Contínia |\n",
    "| fare             | float     | Quantitativa Contínia |\n",
    "| tip              | float     | Quantitativa Contínia |\n",
    "| tolls            | float     | Quantitativa Contínia |\n",
    "| total            | float     | Quantitativa Contínia |\n",
    "| color            | str       | Qualitativa Nominal   |\n",
    "| payment          | str       | Qualitativa Nominal   |\n",
    "| pickup_zone      | str       | Qualitativa Nominal   |\n",
    "| dropoff_zone     | str       | Qualitativa Nominal   |\n",
    "| pickup_borough   | str       | Qualitativa Nominal   |\n",
    "| dropoff_borough  | str       | Qualitativa Nominal   |"
   ]
  },
  {
   "cell_type": "markdown",
   "id": "3506a6bd-e86f-49e6-a233-6bf9c3fe97d9",
   "metadata": {},
   "source": [
    "---\n",
    "Investigaremos também se há a presença de ``missing values``, ou seja, valores faltantes em alguma das colunas de nossa base:"
   ]
  },
  {
   "cell_type": "code",
   "execution_count": 19,
   "id": "643466a8-6881-4c12-84d6-54f8eb0420ef",
   "metadata": {},
   "outputs": [
    {
     "data": {
      "text/plain": [
       "pickup              0\n",
       "dropoff             0\n",
       "passengers          0\n",
       "distance            0\n",
       "fare                0\n",
       "tip                 0\n",
       "tolls               0\n",
       "total               0\n",
       "color               0\n",
       "payment            44\n",
       "pickup_zone        26\n",
       "dropoff_zone       45\n",
       "pickup_borough     26\n",
       "dropoff_borough    45\n",
       "dtype: int64"
      ]
     },
     "execution_count": 19,
     "metadata": {},
     "output_type": "execute_result"
    }
   ],
   "source": [
    "taxis.isna().sum()"
   ]
  },
  {
   "cell_type": "markdown",
   "id": "6120b6d6-aa57-4431-a87a-21cde3ed7bfa",
   "metadata": {},
   "source": [
    "*Conclusão: De fato existem colunas onde até 45 observações apresentam valores faltantes*"
   ]
  },
  {
   "cell_type": "markdown",
   "id": "c09e6d3f-d32a-48c7-ac37-3512edb412e7",
   "metadata": {},
   "source": [
    "---\n",
    "Por meio das funções ``min`` e ``max`` iremos descobrir quantos dias compreendem as viagens disponíveis nessa base de dados:"
   ]
  },
  {
   "cell_type": "code",
   "execution_count": 35,
   "id": "5435f2a3-b80b-4bdf-ada3-fdcdbdc97fa8",
   "metadata": {},
   "outputs": [
    {
     "data": {
      "text/plain": [
       "Timestamp('2019-02-28 23:29:03')"
      ]
     },
     "execution_count": 35,
     "metadata": {},
     "output_type": "execute_result"
    }
   ],
   "source": [
    "taxis[\"pickup\"].min()"
   ]
  },
  {
   "cell_type": "code",
   "execution_count": 36,
   "id": "4dd3f294-6177-4043-acf1-b9456f8b37b9",
   "metadata": {},
   "outputs": [
    {
     "data": {
      "text/plain": [
       "Timestamp('2019-03-31 23:43:45')"
      ]
     },
     "execution_count": 36,
     "metadata": {},
     "output_type": "execute_result"
    }
   ],
   "source": [
    "taxis[\"pickup\"].max()"
   ]
  },
  {
   "cell_type": "code",
   "execution_count": 5,
   "id": "471aaceb-6e55-41df-957a-5e51e61ccc15",
   "metadata": {},
   "outputs": [
    {
     "data": {
      "text/plain": [
       "Timedelta('-32 days +23:45:18')"
      ]
     },
     "execution_count": 5,
     "metadata": {},
     "output_type": "execute_result"
    }
   ],
   "source": [
    "taxis[\"pickup\"].min() - taxis[\"pickup\"].max()"
   ]
  },
  {
   "cell_type": "markdown",
   "id": "233dc8cb-df92-4dd3-b05f-d8e89489fec9",
   "metadata": {},
   "source": [
    "*Conclusão: As dados são de viagens que ocorreram entre o dia 28 de fevereiro de 2019 e 31 de março do mesmo ano.*"
   ]
  },
  {
   "cell_type": "markdown",
   "id": "d391afe5-0edf-4bbf-afc8-8e1223f9aad4",
   "metadata": {},
   "source": [
    "---\n",
    "Agora iremos explorar o conteúdo da variável ``passengers`` e suas tabelas de frequências absolutas e relativas:"
   ]
  },
  {
   "cell_type": "code",
   "execution_count": 11,
   "id": "92a7f37c-a5fc-45ff-87cc-5d9abc45b49d",
   "metadata": {},
   "outputs": [
    {
     "data": {
      "text/plain": [
       "1    4678\n",
       "2     876\n",
       "5     277\n",
       "3     243\n",
       "6     153\n",
       "4     110\n",
       "0      96\n",
       "Name: passengers, dtype: int64"
      ]
     },
     "execution_count": 11,
     "metadata": {},
     "output_type": "execute_result"
    }
   ],
   "source": [
    "taxis[\"passengers\"].value_counts()"
   ]
  },
  {
   "cell_type": "code",
   "execution_count": 12,
   "id": "30f0ba11-adef-4dd9-8530-89f5247c1371",
   "metadata": {},
   "outputs": [
    {
     "data": {
      "text/plain": [
       "1    0.727188\n",
       "2    0.136173\n",
       "5    0.043059\n",
       "3    0.037774\n",
       "6    0.023784\n",
       "4    0.017099\n",
       "0    0.014923\n",
       "Name: passengers, dtype: float64"
      ]
     },
     "execution_count": 12,
     "metadata": {},
     "output_type": "execute_result"
    }
   ],
   "source": [
    "taxis[\"passengers\"].value_counts(normalize=True)"
   ]
  },
  {
   "cell_type": "markdown",
   "id": "e8f78c8d-affd-4d8d-8ee4-5d4340607ebc",
   "metadata": {},
   "source": [
    "*Conclusão: As viagens foram realizadas por somente 1 passageiro em 72% dos casos. Existem também casos com 2 a 6 passageiros. E vale ressaltar a presença de 96 ocorrências onde não houve a declaração de um passageiro presente (0 passageiros)*"
   ]
  },
  {
   "cell_type": "markdown",
   "id": "66edb1b6-869b-4366-a8b1-10caee1c05f7",
   "metadata": {},
   "source": [
    "---\n",
    "Avançamos para a leitura de outras variáveis categóricas, como ``cor`` e ``forma de pagamento``:"
   ]
  },
  {
   "cell_type": "code",
   "execution_count": 29,
   "id": "75280248-fa8a-43b6-a183-dda9e969d83b",
   "metadata": {},
   "outputs": [
    {
     "data": {
      "text/plain": [
       "yellow    5451\n",
       "green      982\n",
       "Name: color, dtype: int64"
      ]
     },
     "execution_count": 29,
     "metadata": {},
     "output_type": "execute_result"
    }
   ],
   "source": [
    "taxis[\"color\"].value_counts()"
   ]
  },
  {
   "cell_type": "code",
   "execution_count": 20,
   "id": "688b61fd-4748-466c-a03d-0853ad929083",
   "metadata": {},
   "outputs": [
    {
     "data": {
      "text/plain": [
       "yellow    0.84735\n",
       "green     0.15265\n",
       "Name: color, dtype: float64"
      ]
     },
     "execution_count": 20,
     "metadata": {},
     "output_type": "execute_result"
    }
   ],
   "source": [
    "taxis[\"color\"].value_counts(normalize=True)"
   ]
  },
  {
   "cell_type": "code",
   "execution_count": 31,
   "id": "aa191a9b-89a2-47af-9cf7-d7f8b82dcb89",
   "metadata": {},
   "outputs": [
    {
     "data": {
      "text/plain": [
       "credit card    4577\n",
       "cash           1812\n",
       "Name: payment, dtype: int64"
      ]
     },
     "execution_count": 31,
     "metadata": {},
     "output_type": "execute_result"
    }
   ],
   "source": [
    "taxis[\"payment\"].value_counts()"
   ]
  },
  {
   "cell_type": "code",
   "execution_count": 21,
   "id": "4c03fef9-9a95-4a73-b0c2-20fc432c6e32",
   "metadata": {},
   "outputs": [
    {
     "data": {
      "text/plain": [
       "credit card    0.716388\n",
       "cash           0.283612\n",
       "Name: payment, dtype: float64"
      ]
     },
     "execution_count": 21,
     "metadata": {},
     "output_type": "execute_result"
    }
   ],
   "source": [
    "taxis[\"payment\"].value_counts(normalize=True)"
   ]
  },
  {
   "cell_type": "markdown",
   "id": "28c159d5-3492-44c3-9c9e-be56dd0f979c",
   "metadata": {},
   "source": [
    "*Conclusão: As viagens foram realizadas em sua grande maioria por taxis amarelos (85% dos casos) e os pagamentos feitos na maior parte, em cartão de crédito (71% dos casos).*"
   ]
  },
  {
   "cell_type": "markdown",
   "id": "9ac573ec-3442-4b3b-b0e9-e4d3c86a8365",
   "metadata": {},
   "source": [
    "---\n",
    "Com relação aos bairros, desejamos explorar quais são as ocorrências seja por local de partida ou de destino:"
   ]
  },
  {
   "cell_type": "code",
   "execution_count": 33,
   "id": "166233e6-7d7e-44b6-917d-d8885732cbe3",
   "metadata": {},
   "outputs": [
    {
     "data": {
      "text/plain": [
       "Manhattan    5268\n",
       "Queens        657\n",
       "Brooklyn      383\n",
       "Bronx          99\n",
       "Name: pickup_borough, dtype: int64"
      ]
     },
     "execution_count": 33,
     "metadata": {},
     "output_type": "execute_result"
    }
   ],
   "source": [
    "taxis[\"pickup_borough\"].value_counts()"
   ]
  },
  {
   "cell_type": "code",
   "execution_count": 34,
   "id": "a2823bd9-a8f1-46ac-85e7-1a52c0710e2d",
   "metadata": {},
   "outputs": [
    {
     "data": {
      "text/plain": [
       "Manhattan        5206\n",
       "Queens            542\n",
       "Brooklyn          501\n",
       "Bronx             137\n",
       "Staten Island       2\n",
       "Name: dropoff_borough, dtype: int64"
      ]
     },
     "execution_count": 34,
     "metadata": {},
     "output_type": "execute_result"
    }
   ],
   "source": [
    "taxis[\"dropoff_borough\"].value_counts()"
   ]
  },
  {
   "cell_type": "markdown",
   "id": "defbec3d-67ad-4336-8a59-c64b9d9acb03",
   "metadata": {},
   "source": [
    "A grande maioria dos trajetos foram feitos na ilha de Manhattan, seja como ponto de partida ou de chegada.\n",
    "\n",
    "***Nota:*** Posteriormente podemos verificar se isso está relacionado ao fato da maior parte das viagens terem sido feitas por taxis da cor **amarela**."
   ]
  },
  {
   "cell_type": "markdown",
   "id": "59d09ed1-e2db-4787-9d84-d428337b053a",
   "metadata": {},
   "source": [
    "<div style=\"background-color: lightgreen; padding: 10px;\">\n",
    "    <h2> Tratamento dos Dados\n",
    "</div>"
   ]
  },
  {
   "cell_type": "markdown",
   "id": "0a2c9d95-5b96-4510-8a1a-8e213103875b",
   "metadata": {},
   "source": [
    "Etapa importante em toda análise de dados, o tratamento atende desde a tipagem de colunas, até a modificação e inclusão de novas variáveis em nossa base de dados.\n",
    "\n",
    "Visto que possuímos a data-hora do embarque e do desembarque do passageiro, podemos calcular novas colunas como, por exemplo, a **duração total** da viagem, em minutos ou segundos.\n",
    "\n",
    "Faremos uso da biblioteca ``datetime`` para isso."
   ]
  },
  {
   "cell_type": "code",
   "execution_count": 20,
   "id": "dd99dc1a-10cb-40ec-bb63-f50470448c71",
   "metadata": {},
   "outputs": [],
   "source": [
    "from datetime import datetime"
   ]
  },
  {
   "cell_type": "code",
   "execution_count": 29,
   "id": "e6b88ab8-a8b5-4c2c-b61c-6eb4e2eb1a9b",
   "metadata": {},
   "outputs": [],
   "source": [
    "taxis['duration_delta'] = taxis[\"dropoff\"] - taxis[\"pickup\"]"
   ]
  },
  {
   "cell_type": "code",
   "execution_count": 31,
   "id": "4aff907a-1e0c-4d7a-a07c-cad017545cf7",
   "metadata": {},
   "outputs": [],
   "source": [
    "taxis['duration_seconds'] = (taxis['dropoff'] - taxis['pickup']).dt.total_seconds()"
   ]
  },
  {
   "cell_type": "code",
   "execution_count": 33,
   "id": "a5265fad-dd7d-47f8-b54d-fc959fcf8873",
   "metadata": {},
   "outputs": [],
   "source": [
    "taxis['duration_minutes'] = taxis['duration_seconds'] / 60"
   ]
  },
  {
   "cell_type": "code",
   "execution_count": 52,
   "id": "355dc87d-3682-414a-af9c-c0d639727ff4",
   "metadata": {},
   "outputs": [
    {
     "data": {
      "text/html": [
       "<div>\n",
       "<style scoped>\n",
       "    .dataframe tbody tr th:only-of-type {\n",
       "        vertical-align: middle;\n",
       "    }\n",
       "\n",
       "    .dataframe tbody tr th {\n",
       "        vertical-align: top;\n",
       "    }\n",
       "\n",
       "    .dataframe thead th {\n",
       "        text-align: right;\n",
       "    }\n",
       "</style>\n",
       "<table border=\"1\" class=\"dataframe\">\n",
       "  <thead>\n",
       "    <tr style=\"text-align: right;\">\n",
       "      <th></th>\n",
       "      <th>duration_delta</th>\n",
       "      <th>duration_seconds</th>\n",
       "      <th>duration_minutes</th>\n",
       "    </tr>\n",
       "  </thead>\n",
       "  <tbody>\n",
       "    <tr>\n",
       "      <th>0</th>\n",
       "      <td>0 days 00:06:15</td>\n",
       "      <td>375.0</td>\n",
       "      <td>6.250000</td>\n",
       "    </tr>\n",
       "    <tr>\n",
       "      <th>1</th>\n",
       "      <td>0 days 00:07:05</td>\n",
       "      <td>425.0</td>\n",
       "      <td>7.083333</td>\n",
       "    </tr>\n",
       "    <tr>\n",
       "      <th>2</th>\n",
       "      <td>0 days 00:07:24</td>\n",
       "      <td>444.0</td>\n",
       "      <td>7.400000</td>\n",
       "    </tr>\n",
       "    <tr>\n",
       "      <th>3</th>\n",
       "      <td>0 days 00:25:52</td>\n",
       "      <td>1552.0</td>\n",
       "      <td>25.866667</td>\n",
       "    </tr>\n",
       "    <tr>\n",
       "      <th>4</th>\n",
       "      <td>0 days 00:09:32</td>\n",
       "      <td>572.0</td>\n",
       "      <td>9.533333</td>\n",
       "    </tr>\n",
       "  </tbody>\n",
       "</table>\n",
       "</div>"
      ],
      "text/plain": [
       "   duration_delta  duration_seconds  duration_minutes\n",
       "0 0 days 00:06:15             375.0          6.250000\n",
       "1 0 days 00:07:05             425.0          7.083333\n",
       "2 0 days 00:07:24             444.0          7.400000\n",
       "3 0 days 00:25:52            1552.0         25.866667\n",
       "4 0 days 00:09:32             572.0          9.533333"
      ]
     },
     "execution_count": 52,
     "metadata": {},
     "output_type": "execute_result"
    }
   ],
   "source": [
    "taxis.iloc[:, -3:].head()"
   ]
  },
  {
   "cell_type": "markdown",
   "id": "f9efff2d-6eef-46d1-9869-9c2a5e09d80c",
   "metadata": {},
   "source": [
    "<div style=\"background-color: lightgreen; padding: 10px;\">\n",
    "    <h2>  Análise Exploratória Univariada\n",
    "</div>"
   ]
  },
  {
   "cell_type": "markdown",
   "id": "cfa128a3-bf66-4f79-bac6-668125879205",
   "metadata": {},
   "source": [
    "Passadas as etapas anteriores, avançamos para a análise univariada. Nesse momento desejamos analisar de forma mais aprofundada a distribuição dos dados de cada uma das variáveis separadamente."
   ]
  },
  {
   "cell_type": "markdown",
   "id": "2e725bbb-7379-43e8-928b-6c37f798f487",
   "metadata": {},
   "source": [
    "<div style=\"background-color: lightgray; padding: 10px;\">\n",
    "    <h3>  Passageiros:\n",
    "</div>"
   ]
  },
  {
   "cell_type": "markdown",
   "id": "9e19f6c6-17ed-4704-b3a6-1a4df4431b48",
   "metadata": {},
   "source": [
    "Um primeiro assunto a ser analisado é sobre os **passageiros**:\n",
    "\n",
    "- Quais são as estatísticas descritivas dessa variável?\n",
    "- Como os dados estão distribuídos?"
   ]
  },
  {
   "cell_type": "code",
   "execution_count": 3,
   "id": "479b5873-f587-4b6f-83f0-b88e42b050ec",
   "metadata": {},
   "outputs": [
    {
     "data": {
      "text/plain": [
       "count    6433.000000\n",
       "mean        1.539251\n",
       "std         1.203768\n",
       "min         0.000000\n",
       "25%         1.000000\n",
       "50%         1.000000\n",
       "75%         2.000000\n",
       "max         6.000000\n",
       "Name: passengers, dtype: float64"
      ]
     },
     "execution_count": 3,
     "metadata": {},
     "output_type": "execute_result"
    }
   ],
   "source": [
    "taxis['passengers'].describe()"
   ]
  },
  {
   "cell_type": "code",
   "execution_count": 4,
   "id": "93b4fa04-f090-4655-bb06-6b7ed394224c",
   "metadata": {},
   "outputs": [
    {
     "data": {
      "text/plain": [
       "1.4490577096640629"
      ]
     },
     "execution_count": 4,
     "metadata": {},
     "output_type": "execute_result"
    }
   ],
   "source": [
    "taxis['passengers'].var()"
   ]
  },
  {
   "cell_type": "code",
   "execution_count": 41,
   "id": "29985416-ba1a-4355-892c-6e5faace0525",
   "metadata": {},
   "outputs": [
    {
     "data": {
      "image/png": "[encoded data removed]",
      "text/plain": [
       "<Figure size 1200x400 with 2 Axes>"
      ]
     },
     "metadata": {},
     "output_type": "display_data"
    }
   ],
   "source": [
    "fig, axs = plt.subplots(1, 2, figsize=(12, 4))\n",
    "\n",
    "# Histograma\n",
    "axs[0].hist(taxis['passengers'])\n",
    "axs[0].set_title('Passengers Histogram')\n",
    "\n",
    "# Box Plot\n",
    "axs[1].boxplot(taxis['passengers'])\n",
    "axs[1].set_title('Passengers Boxplot')\n",
    "\n",
    "plt.tight_layout()\n",
    "plt.show()"
   ]
  },
  {
   "cell_type": "markdown",
   "id": "d2535757-2731-47e7-b6b8-87d54e7c6382",
   "metadata": {},
   "source": [
    "*Conclusão: Como vimos na leitura da tabela de frequências, auxiliada pelo gráfico de histograma, a maior parte dos trajetos é feito com 1 passageiro. A média de passageiros por trajeto é de 1.53, com desvio padrão de 1.20. <br>\n",
    "Ao utilizarmos o gráfico box plot, apesar de os dados **não** mostrarem ser de uma distribuição normal, as observações com 4, 5 e 6 passageiros foram classificadas como outliers. Entretanto seria necessário atestar sua normalidade para poder afirmar isso com o uso do boxplot.*"
   ]
  },
  {
   "cell_type": "markdown",
   "id": "608902d9-f15e-4e72-a9ad-0cf28e00fc06",
   "metadata": {},
   "source": [
    "<div style=\"background-color: lightgray; padding: 10px;\">\n",
    "    <h3>  Duração do trajeto:\n",
    "</div>"
   ]
  },
  {
   "cell_type": "markdown",
   "id": "a32d6ca7-d0b7-4103-b00f-f1ee37a9a18d",
   "metadata": {},
   "source": [
    "Agora desejamos entender melhor sobre a nova variável que criamos **duração do trajeto**:\n",
    "\n",
    "- Quais são as estatísticas descritivas dessa variável? Qual o valor mediano?\n",
    "- 75% dos trajetos são feitos em até quanto tempo?\n",
    "- Como os dados estão distribuídos?\n",
    "- Existe assimetria na distribuição?"
   ]
  },
  {
   "cell_type": "code",
   "execution_count": 58,
   "id": "9ba67357-596b-4b4e-8792-577eda6af4e0",
   "metadata": {},
   "outputs": [
    {
     "data": {
      "text/plain": [
       "count    6433.000000\n",
       "mean       14.349617\n",
       "std        11.643892\n",
       "min         0.000000\n",
       "25%         6.500000\n",
       "50%        10.900000\n",
       "75%        18.516667\n",
       "max       107.666667\n",
       "Name: duration_minutes, dtype: float64"
      ]
     },
     "execution_count": 58,
     "metadata": {},
     "output_type": "execute_result"
    }
   ],
   "source": [
    "taxis['duration_minutes'].describe()"
   ]
  },
  {
   "cell_type": "code",
   "execution_count": 61,
   "id": "967923ab-86d0-4f40-adfc-dd465a1b8e77",
   "metadata": {},
   "outputs": [
    {
     "data": {
      "text/plain": [
       "10.9"
      ]
     },
     "execution_count": 61,
     "metadata": {},
     "output_type": "execute_result"
    }
   ],
   "source": [
    "taxis['duration_minutes'].median()"
   ]
  },
  {
   "cell_type": "code",
   "execution_count": 59,
   "id": "a2fb5446-c976-4b34-9fb0-0554ab02e3e8",
   "metadata": {},
   "outputs": [
    {
     "data": {
      "text/plain": [
       "135.5802194148636"
      ]
     },
     "execution_count": 59,
     "metadata": {},
     "output_type": "execute_result"
    }
   ],
   "source": [
    "taxis['duration_minutes'].var()"
   ]
  },
  {
   "cell_type": "code",
   "execution_count": 62,
   "id": "ac5a785e-0c30-4638-b1ce-986b76a82b80",
   "metadata": {},
   "outputs": [
    {
     "data": {
      "image/png": "[encoded data removed]",
      "text/plain": [
       "<Figure size 1200x400 with 2 Axes>"
      ]
     },
     "metadata": {},
     "output_type": "display_data"
    }
   ],
   "source": [
    "fig, axs = plt.subplots(1, 2, figsize=(12, 4))\n",
    "\n",
    "# Histograma\n",
    "axs[0].hist(taxis['duration_minutes'])\n",
    "axs[0].set_title('Histograma Duração do Trajeto')\n",
    "\n",
    "# Box Plot\n",
    "axs[1].boxplot(taxis['duration_minutes'])\n",
    "axs[1].set_title('Boxplot Duração do Trajeto')\n",
    "\n",
    "plt.tight_layout()\n",
    "plt.show()"
   ]
  },
  {
   "cell_type": "code",
   "execution_count": 115,
   "id": "79739c99-9aa1-4814-a72e-c6117d993a90",
   "metadata": {},
   "outputs": [
    {
     "data": {
      "text/plain": [
       "2.0024117434553625"
      ]
     },
     "execution_count": 115,
     "metadata": {},
     "output_type": "execute_result"
    }
   ],
   "source": [
    "# avaliando a assimetria\n",
    "taxis['duration_minutes'].skew()"
   ]
  },
  {
   "cell_type": "code",
   "execution_count": 63,
   "id": "d3cb322d-b3a8-48d3-9154-a3052eda104e",
   "metadata": {},
   "outputs": [],
   "source": [
    "# algum teste para verificar em que distribuição ela se enquadra?"
   ]
  },
  {
   "cell_type": "code",
   "execution_count": 79,
   "id": "b19b6e73-9a64-408a-b88d-e65bfcc6e1f1",
   "metadata": {},
   "outputs": [
    {
     "data": {
      "text/plain": [
       "<seaborn.axisgrid.FacetGrid at 0x202ea926e10>"
      ]
     },
     "execution_count": 79,
     "metadata": {},
     "output_type": "execute_result"
    },
    {
     "data": {
      "image/png": "[encoded data removed]",
      "text/plain": [
       "<Figure size 500x500 with 1 Axes>"
      ]
     },
     "metadata": {},
     "output_type": "display_data"
    }
   ],
   "source": [
    "sns.displot(taxis['duration_minutes'], kde=True)"
   ]
  },
  {
   "cell_type": "markdown",
   "id": "013b08af-134a-44b7-a245-58be5f77d64d",
   "metadata": {},
   "source": [
    "*Conclusão: escrever aqui*"
   ]
  },
  {
   "cell_type": "markdown",
   "id": "48658fe6-5faf-4b84-b8af-dce9bcf098ba",
   "metadata": {},
   "source": [
    "---\n",
    "Investigação: "
   ]
  },
  {
   "cell_type": "code",
   "execution_count": 85,
   "id": "7e564cfe-a6a5-48b3-9563-97491d457502",
   "metadata": {},
   "outputs": [
    {
     "data": {
      "text/html": [
       "<div>\n",
       "<style scoped>\n",
       "    .dataframe tbody tr th:only-of-type {\n",
       "        vertical-align: middle;\n",
       "    }\n",
       "\n",
       "    .dataframe tbody tr th {\n",
       "        vertical-align: top;\n",
       "    }\n",
       "\n",
       "    .dataframe thead th {\n",
       "        text-align: right;\n",
       "    }\n",
       "</style>\n",
       "<table border=\"1\" class=\"dataframe\">\n",
       "  <thead>\n",
       "    <tr style=\"text-align: right;\">\n",
       "      <th></th>\n",
       "      <th>pickup</th>\n",
       "      <th>dropoff</th>\n",
       "      <th>passengers</th>\n",
       "      <th>distance</th>\n",
       "      <th>fare</th>\n",
       "      <th>tip</th>\n",
       "      <th>tolls</th>\n",
       "      <th>total</th>\n",
       "      <th>color</th>\n",
       "      <th>payment</th>\n",
       "      <th>pickup_zone</th>\n",
       "      <th>dropoff_zone</th>\n",
       "      <th>pickup_borough</th>\n",
       "      <th>dropoff_borough</th>\n",
       "      <th>duration_delta</th>\n",
       "      <th>duration_seconds</th>\n",
       "      <th>duration_minutes</th>\n",
       "    </tr>\n",
       "  </thead>\n",
       "  <tbody>\n",
       "    <tr>\n",
       "      <th>1690</th>\n",
       "      <td>2019-03-22 06:24:14</td>\n",
       "      <td>2019-03-22 06:24:14</td>\n",
       "      <td>1</td>\n",
       "      <td>0.0</td>\n",
       "      <td>72.0</td>\n",
       "      <td>0.0</td>\n",
       "      <td>0.0</td>\n",
       "      <td>72.0</td>\n",
       "      <td>yellow</td>\n",
       "      <td>NaN</td>\n",
       "      <td>East New York</td>\n",
       "      <td>NaN</td>\n",
       "      <td>Brooklyn</td>\n",
       "      <td>NaN</td>\n",
       "      <td>0 days</td>\n",
       "      <td>0.0</td>\n",
       "      <td>0.0</td>\n",
       "    </tr>\n",
       "    <tr>\n",
       "      <th>5493</th>\n",
       "      <td>2019-03-06 12:14:00</td>\n",
       "      <td>2019-03-06 12:14:00</td>\n",
       "      <td>1</td>\n",
       "      <td>0.0</td>\n",
       "      <td>10.0</td>\n",
       "      <td>0.0</td>\n",
       "      <td>0.0</td>\n",
       "      <td>10.0</td>\n",
       "      <td>green</td>\n",
       "      <td>credit card</td>\n",
       "      <td>NaN</td>\n",
       "      <td>NaN</td>\n",
       "      <td>NaN</td>\n",
       "      <td>NaN</td>\n",
       "      <td>0 days</td>\n",
       "      <td>0.0</td>\n",
       "      <td>0.0</td>\n",
       "    </tr>\n",
       "    <tr>\n",
       "      <th>5624</th>\n",
       "      <td>2019-03-11 14:04:50</td>\n",
       "      <td>2019-03-11 14:04:50</td>\n",
       "      <td>1</td>\n",
       "      <td>0.0</td>\n",
       "      <td>2.5</td>\n",
       "      <td>0.0</td>\n",
       "      <td>0.0</td>\n",
       "      <td>3.3</td>\n",
       "      <td>green</td>\n",
       "      <td>cash</td>\n",
       "      <td>NaN</td>\n",
       "      <td>NaN</td>\n",
       "      <td>NaN</td>\n",
       "      <td>NaN</td>\n",
       "      <td>0 days</td>\n",
       "      <td>0.0</td>\n",
       "      <td>0.0</td>\n",
       "    </tr>\n",
       "    <tr>\n",
       "      <th>5638</th>\n",
       "      <td>2019-03-13 12:22:00</td>\n",
       "      <td>2019-03-13 12:22:00</td>\n",
       "      <td>1</td>\n",
       "      <td>0.0</td>\n",
       "      <td>10.0</td>\n",
       "      <td>0.0</td>\n",
       "      <td>0.0</td>\n",
       "      <td>10.0</td>\n",
       "      <td>green</td>\n",
       "      <td>credit card</td>\n",
       "      <td>NaN</td>\n",
       "      <td>NaN</td>\n",
       "      <td>NaN</td>\n",
       "      <td>NaN</td>\n",
       "      <td>0 days</td>\n",
       "      <td>0.0</td>\n",
       "      <td>0.0</td>\n",
       "    </tr>\n",
       "    <tr>\n",
       "      <th>6083</th>\n",
       "      <td>2019-03-19 15:34:00</td>\n",
       "      <td>2019-03-19 15:34:00</td>\n",
       "      <td>1</td>\n",
       "      <td>0.0</td>\n",
       "      <td>5.0</td>\n",
       "      <td>0.0</td>\n",
       "      <td>0.0</td>\n",
       "      <td>5.0</td>\n",
       "      <td>green</td>\n",
       "      <td>credit card</td>\n",
       "      <td>NaN</td>\n",
       "      <td>NaN</td>\n",
       "      <td>NaN</td>\n",
       "      <td>NaN</td>\n",
       "      <td>0 days</td>\n",
       "      <td>0.0</td>\n",
       "      <td>0.0</td>\n",
       "    </tr>\n",
       "    <tr>\n",
       "      <th>6356</th>\n",
       "      <td>2019-03-01 16:58:23</td>\n",
       "      <td>2019-03-01 16:58:23</td>\n",
       "      <td>1</td>\n",
       "      <td>0.0</td>\n",
       "      <td>3.0</td>\n",
       "      <td>0.0</td>\n",
       "      <td>0.0</td>\n",
       "      <td>4.8</td>\n",
       "      <td>green</td>\n",
       "      <td>cash</td>\n",
       "      <td>Stuyvesant Heights</td>\n",
       "      <td>NaN</td>\n",
       "      <td>Brooklyn</td>\n",
       "      <td>NaN</td>\n",
       "      <td>0 days</td>\n",
       "      <td>0.0</td>\n",
       "      <td>0.0</td>\n",
       "    </tr>\n",
       "  </tbody>\n",
       "</table>\n",
       "</div>"
      ],
      "text/plain": [
       "                  pickup             dropoff  passengers  distance  fare  tip  \\\n",
       "1690 2019-03-22 06:24:14 2019-03-22 06:24:14           1       0.0  72.0  0.0   \n",
       "5493 2019-03-06 12:14:00 2019-03-06 12:14:00           1       0.0  10.0  0.0   \n",
       "5624 2019-03-11 14:04:50 2019-03-11 14:04:50           1       0.0   2.5  0.0   \n",
       "5638 2019-03-13 12:22:00 2019-03-13 12:22:00           1       0.0  10.0  0.0   \n",
       "6083 2019-03-19 15:34:00 2019-03-19 15:34:00           1       0.0   5.0  0.0   \n",
       "6356 2019-03-01 16:58:23 2019-03-01 16:58:23           1       0.0   3.0  0.0   \n",
       "\n",
       "      tolls  total   color      payment         pickup_zone dropoff_zone  \\\n",
       "1690    0.0   72.0  yellow          NaN       East New York          NaN   \n",
       "5493    0.0   10.0   green  credit card                 NaN          NaN   \n",
       "5624    0.0    3.3   green         cash                 NaN          NaN   \n",
       "5638    0.0   10.0   green  credit card                 NaN          NaN   \n",
       "6083    0.0    5.0   green  credit card                 NaN          NaN   \n",
       "6356    0.0    4.8   green         cash  Stuyvesant Heights          NaN   \n",
       "\n",
       "     pickup_borough dropoff_borough duration_delta  duration_seconds  \\\n",
       "1690       Brooklyn             NaN         0 days               0.0   \n",
       "5493            NaN             NaN         0 days               0.0   \n",
       "5624            NaN             NaN         0 days               0.0   \n",
       "5638            NaN             NaN         0 days               0.0   \n",
       "6083            NaN             NaN         0 days               0.0   \n",
       "6356       Brooklyn             NaN         0 days               0.0   \n",
       "\n",
       "      duration_minutes  \n",
       "1690               0.0  \n",
       "5493               0.0  \n",
       "5624               0.0  \n",
       "5638               0.0  \n",
       "6083               0.0  \n",
       "6356               0.0  "
      ]
     },
     "execution_count": 85,
     "metadata": {},
     "output_type": "execute_result"
    }
   ],
   "source": [
    "taxis[taxis['duration_minutes'] == 0]"
   ]
  },
  {
   "cell_type": "markdown",
   "id": "8e1b896c-025e-48ec-9faa-1b0bdc7ebe3a",
   "metadata": {},
   "source": [
    "*Conclusão: escrever aqui*"
   ]
  },
  {
   "cell_type": "markdown",
   "id": "a1614301-9e78-4deb-9e23-76eae767b369",
   "metadata": {},
   "source": [
    "<div style=\"background-color: lightgray; padding: 10px;\">\n",
    "    <h3>  Distâncias:\n",
    "</div>"
   ]
  },
  {
   "cell_type": "markdown",
   "id": "768f69c9-2c77-4b81-91b4-d741fcffe143",
   "metadata": {},
   "source": [
    "Agora desejamos entender melhor sobre as **distâncias dos trajetos**:\n",
    "\n",
    "- Qual a média das distâncias dos trajetos?\n",
    "- Como os dados estão distribuídos?\n",
    "- Os dados estão na distribuição normal?"
   ]
  },
  {
   "cell_type": "code",
   "execution_count": 68,
   "id": "733a49c3-1d82-4488-bdc8-965b5f9cee25",
   "metadata": {},
   "outputs": [
    {
     "data": {
      "text/plain": [
       "count    6433.000000\n",
       "mean        3.024617\n",
       "std         3.827867\n",
       "min         0.000000\n",
       "25%         0.980000\n",
       "50%         1.640000\n",
       "75%         3.210000\n",
       "max        36.700000\n",
       "Name: distance, dtype: float64"
      ]
     },
     "execution_count": 68,
     "metadata": {},
     "output_type": "execute_result"
    }
   ],
   "source": [
    "taxis['distance'].describe()"
   ]
  },
  {
   "cell_type": "code",
   "execution_count": 69,
   "id": "4d81e7cb-bf97-4318-88d7-86d58b95dfa5",
   "metadata": {},
   "outputs": [
    {
     "data": {
      "text/plain": [
       "14.652565777434717"
      ]
     },
     "execution_count": 69,
     "metadata": {},
     "output_type": "execute_result"
    }
   ],
   "source": [
    "taxis['distance'].var()"
   ]
  },
  {
   "cell_type": "code",
   "execution_count": 70,
   "id": "8e31f72f-4630-4b06-9d9e-863d1f6fd2e2",
   "metadata": {},
   "outputs": [
    {
     "data": {
      "image/png": "[encoded data removed]",
      "text/plain": [
       "<Figure size 1200x400 with 2 Axes>"
      ]
     },
     "metadata": {},
     "output_type": "display_data"
    }
   ],
   "source": [
    "fig, axs = plt.subplots(1, 2, figsize=(12, 4))\n",
    "\n",
    "# Histograma\n",
    "axs[0].hist(taxis['distance'])\n",
    "axs[0].set_title('Histograma de Distâncias dos Trajetos')\n",
    "\n",
    "# Box Plot\n",
    "axs[1].boxplot(taxis['distance'])\n",
    "axs[1].set_title('Boxplot de Distâncias dos Trajetos')\n",
    "\n",
    "plt.tight_layout()\n",
    "plt.show()"
   ]
  },
  {
   "cell_type": "code",
   "execution_count": 116,
   "id": "139f06ae-abb2-4a93-b685-7f1c95d098c9",
   "metadata": {},
   "outputs": [
    {
     "data": {
      "text/plain": [
       "3.0082057890318215"
      ]
     },
     "execution_count": 116,
     "metadata": {},
     "output_type": "execute_result"
    }
   ],
   "source": [
    "# avaliando a assimetria\n",
    "taxis['distance'].skew()"
   ]
  },
  {
   "cell_type": "code",
   "execution_count": 63,
   "id": "cefc6878-18f2-4008-808a-5385111a39f8",
   "metadata": {},
   "outputs": [],
   "source": [
    "# algum teste para verificar em que distribuição ela se enquadra?"
   ]
  },
  {
   "cell_type": "markdown",
   "id": "170a5aa7-9a74-43a8-99a6-a3476e9e25ec",
   "metadata": {},
   "source": [
    "*Conclusão: escrever aqui*"
   ]
  },
  {
   "cell_type": "markdown",
   "id": "76f53464-d3f9-443b-a96e-2cb3e1d412c9",
   "metadata": {},
   "source": [
    "<div style=\"background-color: lightgray; padding: 10px;\">\n",
    "    <h3>  Tarifa da Corrida:\n",
    "</div>"
   ]
  },
  {
   "cell_type": "markdown",
   "id": "4748d896-9e2d-4402-8a91-6a28e3e1ab21",
   "metadata": {},
   "source": [
    "Agora vamos explorar os dados das **tarifas das corridas**:\n",
    "\n",
    "- Qual o valor médio das tarifas pagas?\n",
    "- Como os dados estão distribuídos?\n",
    "- Os dados estão na distribuição normal?"
   ]
  },
  {
   "cell_type": "code",
   "execution_count": 71,
   "id": "b5eb7143-ce1f-450d-917e-47f13fec25a7",
   "metadata": {},
   "outputs": [
    {
     "data": {
      "text/plain": [
       "count    6433.000000\n",
       "mean       13.091073\n",
       "std        11.551804\n",
       "min         1.000000\n",
       "25%         6.500000\n",
       "50%         9.500000\n",
       "75%        15.000000\n",
       "max       150.000000\n",
       "Name: fare, dtype: float64"
      ]
     },
     "execution_count": 71,
     "metadata": {},
     "output_type": "execute_result"
    }
   ],
   "source": [
    "taxis['fare'].describe()"
   ]
  },
  {
   "cell_type": "code",
   "execution_count": 72,
   "id": "341994bf-0afc-45d6-a1b3-88116432daf0",
   "metadata": {},
   "outputs": [
    {
     "data": {
      "text/plain": [
       "133.4441818095617"
      ]
     },
     "execution_count": 72,
     "metadata": {},
     "output_type": "execute_result"
    }
   ],
   "source": [
    "taxis['fare'].var()"
   ]
  },
  {
   "cell_type": "code",
   "execution_count": 73,
   "id": "d742758c-b308-48ec-a959-6c98c38d85f0",
   "metadata": {},
   "outputs": [
    {
     "data": {
      "image/png": "[encoded data removed]",
      "text/plain": [
       "<Figure size 1200x400 with 2 Axes>"
      ]
     },
     "metadata": {},
     "output_type": "display_data"
    }
   ],
   "source": [
    "fig, axs = plt.subplots(1, 2, figsize=(12, 4))\n",
    "\n",
    "# Histograma\n",
    "axs[0].hist(taxis['fare'])\n",
    "axs[0].set_title('Histograma das Tarifas dos Trajetos')\n",
    "\n",
    "# Box Plot\n",
    "axs[1].boxplot(taxis['fare'])\n",
    "axs[1].set_title('Boxplot das Tarifas dos Trajetos')\n",
    "\n",
    "plt.tight_layout()\n",
    "plt.show()"
   ]
  },
  {
   "cell_type": "code",
   "execution_count": 117,
   "id": "1c8d6a69-c1fe-4150-9b57-2f49840bddae",
   "metadata": {},
   "outputs": [
    {
     "data": {
      "text/plain": [
       "3.217462794607763"
      ]
     },
     "execution_count": 117,
     "metadata": {},
     "output_type": "execute_result"
    }
   ],
   "source": [
    "# avaliando a assimetria\n",
    "taxis['fare'].skew()"
   ]
  },
  {
   "cell_type": "code",
   "execution_count": 63,
   "id": "6d0eb1f9-3da6-4f14-88cb-2306f6c4c29e",
   "metadata": {},
   "outputs": [],
   "source": [
    "# algum teste para verificar em que distribuição ela se enquadra?"
   ]
  },
  {
   "cell_type": "markdown",
   "id": "e88bc899-26d9-4fee-955b-98abd219825c",
   "metadata": {},
   "source": [
    "*Conclusão: escrever aqui*"
   ]
  },
  {
   "cell_type": "markdown",
   "id": "bb606bb0-a964-4e28-8885-41b9553d1f19",
   "metadata": {},
   "source": [
    "<div style=\"background-color: lightgreen; padding: 10px;\">\n",
    "    <h2>  Análise Exploratória Multivariada\n",
    "</div>"
   ]
  },
  {
   "cell_type": "markdown",
   "id": "533b43ae-40fe-478e-882f-92fb61febea5",
   "metadata": {},
   "source": [
    "Até o momento fizemos análises univariadas, explorando uma variável de cada vez.\n",
    "\n",
    "Agora iremos explorar a relação entre duas ou mais variáveis. E para isso, existe um conjunto de métricas que podemos explorar como a **correlação** e a **covariância**."
   ]
  },
  {
   "cell_type": "markdown",
   "id": "7fdfe53c-47ef-457c-9e1c-6d34c6be222e",
   "metadata": {},
   "source": [
    "<div style=\"background-color: lightgray; padding: 10px;\">\n",
    "    <h3>  Correlações:\n",
    "</div>"
   ]
  },
  {
   "cell_type": "markdown",
   "id": "6febea2d-d86e-47e9-b0ed-73777d930825",
   "metadata": {},
   "source": [
    "Nesse primeiro momento iremos calcular a correlação entre as variáveis quantitativas para entender como elas estão correlacionadas:"
   ]
  },
  {
   "cell_type": "code",
   "execution_count": 108,
   "id": "0232ff29-ba7a-462a-b2d4-5f8383b0ba45",
   "metadata": {},
   "outputs": [
    {
     "data": {
      "text/html": [
       "<div>\n",
       "<style scoped>\n",
       "    .dataframe tbody tr th:only-of-type {\n",
       "        vertical-align: middle;\n",
       "    }\n",
       "\n",
       "    .dataframe tbody tr th {\n",
       "        vertical-align: top;\n",
       "    }\n",
       "\n",
       "    .dataframe thead th {\n",
       "        text-align: right;\n",
       "    }\n",
       "</style>\n",
       "<table border=\"1\" class=\"dataframe\">\n",
       "  <thead>\n",
       "    <tr style=\"text-align: right;\">\n",
       "      <th></th>\n",
       "      <th>passengers</th>\n",
       "      <th>distance</th>\n",
       "      <th>duration_minutes</th>\n",
       "      <th>fare</th>\n",
       "      <th>tip</th>\n",
       "      <th>tolls</th>\n",
       "    </tr>\n",
       "  </thead>\n",
       "  <tbody>\n",
       "    <tr>\n",
       "      <th>passengers</th>\n",
       "      <td>1.00</td>\n",
       "      <td>0.01</td>\n",
       "      <td>0.01</td>\n",
       "      <td>0.00</td>\n",
       "      <td>0.03</td>\n",
       "      <td>-0.01</td>\n",
       "    </tr>\n",
       "    <tr>\n",
       "      <th>distance</th>\n",
       "      <td>0.01</td>\n",
       "      <td>1.00</td>\n",
       "      <td>0.87</td>\n",
       "      <td>0.93</td>\n",
       "      <td>0.29</td>\n",
       "      <td>0.36</td>\n",
       "    </tr>\n",
       "    <tr>\n",
       "      <th>duration_minutes</th>\n",
       "      <td>0.01</td>\n",
       "      <td>0.87</td>\n",
       "      <td>1.00</td>\n",
       "      <td>0.95</td>\n",
       "      <td>0.29</td>\n",
       "      <td>0.33</td>\n",
       "    </tr>\n",
       "    <tr>\n",
       "      <th>fare</th>\n",
       "      <td>0.00</td>\n",
       "      <td>0.93</td>\n",
       "      <td>0.95</td>\n",
       "      <td>1.00</td>\n",
       "      <td>0.31</td>\n",
       "      <td>0.37</td>\n",
       "    </tr>\n",
       "    <tr>\n",
       "      <th>tip</th>\n",
       "      <td>0.03</td>\n",
       "      <td>0.29</td>\n",
       "      <td>0.29</td>\n",
       "      <td>0.31</td>\n",
       "      <td>1.00</td>\n",
       "      <td>0.17</td>\n",
       "    </tr>\n",
       "    <tr>\n",
       "      <th>tolls</th>\n",
       "      <td>-0.01</td>\n",
       "      <td>0.36</td>\n",
       "      <td>0.33</td>\n",
       "      <td>0.37</td>\n",
       "      <td>0.17</td>\n",
       "      <td>1.00</td>\n",
       "    </tr>\n",
       "  </tbody>\n",
       "</table>\n",
       "</div>"
      ],
      "text/plain": [
       "                  passengers  distance  duration_minutes  fare   tip  tolls\n",
       "passengers              1.00      0.01              0.01  0.00  0.03  -0.01\n",
       "distance                0.01      1.00              0.87  0.93  0.29   0.36\n",
       "duration_minutes        0.01      0.87              1.00  0.95  0.29   0.33\n",
       "fare                    0.00      0.93              0.95  1.00  0.31   0.37\n",
       "tip                     0.03      0.29              0.29  0.31  1.00   0.17\n",
       "tolls                  -0.01      0.36              0.33  0.37  0.17   1.00"
      ]
     },
     "execution_count": 108,
     "metadata": {},
     "output_type": "execute_result"
    }
   ],
   "source": [
    "corr = taxis[['passengers','distance','duration_minutes', 'fare', 'tip', 'tolls']].corr(method='spearman').round(2)\n",
    "corr"
   ]
  },
  {
   "cell_type": "code",
   "execution_count": 109,
   "id": "c066e2c1-52f9-435a-a154-81bd034ce30d",
   "metadata": {},
   "outputs": [
    {
     "data": {
      "text/plain": [
       "<Axes: >"
      ]
     },
     "execution_count": 109,
     "metadata": {},
     "output_type": "execute_result"
    },
    {
     "data": {
      "image/png": "[encoded data removed]",
      "text/plain": [
       "<Figure size 640x480 with 2 Axes>"
      ]
     },
     "metadata": {},
     "output_type": "display_data"
    }
   ],
   "source": [
    "sns.heatmap(corr,annot=True,cmap=\"OrRd\")"
   ]
  },
  {
   "cell_type": "markdown",
   "id": "e92cdb62-b791-4dc2-9b6d-2982dc0e1691",
   "metadata": {},
   "source": [
    "*Conclusão: escrever aqui*\n",
    "\n",
    "Recapitulativo do conteúdo aprendido sobre Correlações Lineares:\n",
    "\n",
    "<br>\n",
    "<img src=\"https://www.mathsisfun.com/data/images/correlation-examples.svg\" width=700>\n",
    "<br>\n",
    "\n",
    "Ilustração da diferença entre correlações **lineares** e **não lineares**:\n",
    "<br>\n",
    "<img src=\"https://miro.medium.com/max/1414/1*ZMwog-_YcD0qBHc9_1T1-w.png\" width=700>\n",
    "<br>"
   ]
  },
  {
   "cell_type": "markdown",
   "id": "8b583405-e792-4517-81f9-061018dd9a0f",
   "metadata": {},
   "source": [
    "<div style=\"background-color: lightgray; padding: 10px;\">\n",
    "    <h3>  Covariância:\n",
    "</div>"
   ]
  },
  {
   "cell_type": "markdown",
   "id": "21b6dfee-ad83-4022-a2d6-8ba1bdd32817",
   "metadata": {},
   "source": [
    "A covariância calcula a medida do grau de interdependência (ou inter-relação) entre as variáveis, portanto, queremos entender quais variáveis possuem alta covariância entre si, e quais apresentam maior independência entre si."
   ]
  },
  {
   "cell_type": "markdown",
   "id": "7e8f7752-0bdb-44d2-badf-b0a5a61c3974",
   "metadata": {},
   "source": [
    "*escrever aqui*"
   ]
  },
  {
   "cell_type": "code",
   "execution_count": 75,
   "id": "d1f15a87-5f9a-4683-bbe0-04182fed33ac",
   "metadata": {},
   "outputs": [
    {
     "data": {
      "text/html": [
       "<div>\n",
       "<style scoped>\n",
       "    .dataframe tbody tr th:only-of-type {\n",
       "        vertical-align: middle;\n",
       "    }\n",
       "\n",
       "    .dataframe tbody tr th {\n",
       "        vertical-align: top;\n",
       "    }\n",
       "\n",
       "    .dataframe thead th {\n",
       "        text-align: right;\n",
       "    }\n",
       "</style>\n",
       "<table border=\"1\" class=\"dataframe\">\n",
       "  <thead>\n",
       "    <tr style=\"text-align: right;\">\n",
       "      <th></th>\n",
       "      <th>distance</th>\n",
       "      <th>duration_minutes</th>\n",
       "    </tr>\n",
       "  </thead>\n",
       "  <tbody>\n",
       "    <tr>\n",
       "      <th>distance</th>\n",
       "      <td>14.652566</td>\n",
       "      <td>36.607309</td>\n",
       "    </tr>\n",
       "    <tr>\n",
       "      <th>duration_minutes</th>\n",
       "      <td>36.607309</td>\n",
       "      <td>135.580219</td>\n",
       "    </tr>\n",
       "  </tbody>\n",
       "</table>\n",
       "</div>"
      ],
      "text/plain": [
       "                   distance  duration_minutes\n",
       "distance          14.652566         36.607309\n",
       "duration_minutes  36.607309        135.580219"
      ]
     },
     "execution_count": 75,
     "metadata": {},
     "output_type": "execute_result"
    }
   ],
   "source": [
    "taxis[['distance','duration_minutes']].cov()"
   ]
  },
  {
   "cell_type": "markdown",
   "id": "3efa06b5-e241-479d-ad1f-e2c4fa42300c",
   "metadata": {},
   "source": [
    "*escrever aqui*"
   ]
  },
  {
   "cell_type": "code",
   "execution_count": 77,
   "id": "899ff542-d157-45a5-a7e7-22d7f7a0c30f",
   "metadata": {},
   "outputs": [
    {
     "data": {
      "text/html": [
       "<div>\n",
       "<style scoped>\n",
       "    .dataframe tbody tr th:only-of-type {\n",
       "        vertical-align: middle;\n",
       "    }\n",
       "\n",
       "    .dataframe tbody tr th {\n",
       "        vertical-align: top;\n",
       "    }\n",
       "\n",
       "    .dataframe thead th {\n",
       "        text-align: right;\n",
       "    }\n",
       "</style>\n",
       "<table border=\"1\" class=\"dataframe\">\n",
       "  <thead>\n",
       "    <tr style=\"text-align: right;\">\n",
       "      <th></th>\n",
       "      <th>distance</th>\n",
       "      <th>fare</th>\n",
       "    </tr>\n",
       "  </thead>\n",
       "  <tbody>\n",
       "    <tr>\n",
       "      <th>distance</th>\n",
       "      <td>14.652566</td>\n",
       "      <td>40.686031</td>\n",
       "    </tr>\n",
       "    <tr>\n",
       "      <th>fare</th>\n",
       "      <td>40.686031</td>\n",
       "      <td>133.444182</td>\n",
       "    </tr>\n",
       "  </tbody>\n",
       "</table>\n",
       "</div>"
      ],
      "text/plain": [
       "           distance        fare\n",
       "distance  14.652566   40.686031\n",
       "fare      40.686031  133.444182"
      ]
     },
     "execution_count": 77,
     "metadata": {},
     "output_type": "execute_result"
    }
   ],
   "source": [
    "taxis[['distance', 'fare']].cov()"
   ]
  },
  {
   "cell_type": "markdown",
   "id": "19e2a877-81ec-4efd-91f9-9a8a7f43bff8",
   "metadata": {},
   "source": [
    "*escrever aqui*"
   ]
  },
  {
   "cell_type": "code",
   "execution_count": 78,
   "id": "5bd076cd-93a0-48dc-883c-5ab8721ac6af",
   "metadata": {},
   "outputs": [
    {
     "data": {
      "text/html": [
       "<div>\n",
       "<style scoped>\n",
       "    .dataframe tbody tr th:only-of-type {\n",
       "        vertical-align: middle;\n",
       "    }\n",
       "\n",
       "    .dataframe tbody tr th {\n",
       "        vertical-align: top;\n",
       "    }\n",
       "\n",
       "    .dataframe thead th {\n",
       "        text-align: right;\n",
       "    }\n",
       "</style>\n",
       "<table border=\"1\" class=\"dataframe\">\n",
       "  <thead>\n",
       "    <tr style=\"text-align: right;\">\n",
       "      <th></th>\n",
       "      <th>duration_minutes</th>\n",
       "      <th>fare</th>\n",
       "    </tr>\n",
       "  </thead>\n",
       "  <tbody>\n",
       "    <tr>\n",
       "      <th>duration_minutes</th>\n",
       "      <td>135.580219</td>\n",
       "      <td>114.071835</td>\n",
       "    </tr>\n",
       "    <tr>\n",
       "      <th>fare</th>\n",
       "      <td>114.071835</td>\n",
       "      <td>133.444182</td>\n",
       "    </tr>\n",
       "  </tbody>\n",
       "</table>\n",
       "</div>"
      ],
      "text/plain": [
       "                  duration_minutes        fare\n",
       "duration_minutes        135.580219  114.071835\n",
       "fare                    114.071835  133.444182"
      ]
     },
     "execution_count": 78,
     "metadata": {},
     "output_type": "execute_result"
    }
   ],
   "source": [
    "taxis[['duration_minutes', 'fare']].cov()"
   ]
  },
  {
   "cell_type": "markdown",
   "id": "149b7961-8e6e-4d2d-80e6-07a98af45c36",
   "metadata": {},
   "source": [
    "*escrever aqui*"
   ]
  },
  {
   "cell_type": "code",
   "execution_count": 111,
   "id": "6a1b2841-994a-4e21-ae1e-3970b71d1ba7",
   "metadata": {},
   "outputs": [
    {
     "data": {
      "text/html": [
       "<div>\n",
       "<style scoped>\n",
       "    .dataframe tbody tr th:only-of-type {\n",
       "        vertical-align: middle;\n",
       "    }\n",
       "\n",
       "    .dataframe tbody tr th {\n",
       "        vertical-align: top;\n",
       "    }\n",
       "\n",
       "    .dataframe thead th {\n",
       "        text-align: right;\n",
       "    }\n",
       "</style>\n",
       "<table border=\"1\" class=\"dataframe\">\n",
       "  <thead>\n",
       "    <tr style=\"text-align: right;\">\n",
       "      <th></th>\n",
       "      <th>passengers</th>\n",
       "      <th>fare</th>\n",
       "    </tr>\n",
       "  </thead>\n",
       "  <tbody>\n",
       "    <tr>\n",
       "      <th>passengers</th>\n",
       "      <td>1.449058</td>\n",
       "      <td>0.106199</td>\n",
       "    </tr>\n",
       "    <tr>\n",
       "      <th>fare</th>\n",
       "      <td>0.106199</td>\n",
       "      <td>133.444182</td>\n",
       "    </tr>\n",
       "  </tbody>\n",
       "</table>\n",
       "</div>"
      ],
      "text/plain": [
       "            passengers        fare\n",
       "passengers    1.449058    0.106199\n",
       "fare          0.106199  133.444182"
      ]
     },
     "execution_count": 111,
     "metadata": {},
     "output_type": "execute_result"
    }
   ],
   "source": [
    "taxis[['passengers', 'fare']].cov()"
   ]
  },
  {
   "cell_type": "code",
   "execution_count": 112,
   "id": "55332079-04fe-4da9-bdca-3597a526a8f4",
   "metadata": {},
   "outputs": [
    {
     "name": "stderr",
     "output_type": "stream",
     "text": [
      "C:\\Users\\Andre\\AppData\\Local\\Temp\\ipykernel_20224\\1347229870.py:1: FutureWarning: The default value of numeric_only in DataFrame.cov is deprecated. In a future version, it will default to False. Select only valid columns or specify the value of numeric_only to silence this warning.\n",
      "  taxis.cov()\n"
     ]
    },
    {
     "data": {
      "text/html": [
       "<div>\n",
       "<style scoped>\n",
       "    .dataframe tbody tr th:only-of-type {\n",
       "        vertical-align: middle;\n",
       "    }\n",
       "\n",
       "    .dataframe tbody tr th {\n",
       "        vertical-align: top;\n",
       "    }\n",
       "\n",
       "    .dataframe thead th {\n",
       "        text-align: right;\n",
       "    }\n",
       "</style>\n",
       "<table border=\"1\" class=\"dataframe\">\n",
       "  <thead>\n",
       "    <tr style=\"text-align: right;\">\n",
       "      <th></th>\n",
       "      <th>passengers</th>\n",
       "      <th>distance</th>\n",
       "      <th>fare</th>\n",
       "      <th>tip</th>\n",
       "      <th>tolls</th>\n",
       "      <th>total</th>\n",
       "      <th>duration_seconds</th>\n",
       "      <th>duration_minutes</th>\n",
       "    </tr>\n",
       "  </thead>\n",
       "  <tbody>\n",
       "    <tr>\n",
       "      <th>passengers</th>\n",
       "      <td>1.449058</td>\n",
       "      <td>0.043365</td>\n",
       "      <td>0.106199</td>\n",
       "      <td>0.062190</td>\n",
       "      <td>-0.004946</td>\n",
       "      <td>0.261233</td>\n",
       "      <td>-3.646951</td>\n",
       "      <td>-0.060783</td>\n",
       "    </tr>\n",
       "    <tr>\n",
       "      <th>distance</th>\n",
       "      <td>0.043365</td>\n",
       "      <td>14.652566</td>\n",
       "      <td>40.686031</td>\n",
       "      <td>4.242005</td>\n",
       "      <td>3.441533</td>\n",
       "      <td>47.843057</td>\n",
       "      <td>2196.438514</td>\n",
       "      <td>36.607309</td>\n",
       "    </tr>\n",
       "    <tr>\n",
       "      <th>fare</th>\n",
       "      <td>0.106199</td>\n",
       "      <td>40.686031</td>\n",
       "      <td>133.444182</td>\n",
       "      <td>13.820539</td>\n",
       "      <td>9.961493</td>\n",
       "      <td>155.502375</td>\n",
       "      <td>6844.310124</td>\n",
       "      <td>114.071835</td>\n",
       "    </tr>\n",
       "    <tr>\n",
       "      <th>tip</th>\n",
       "      <td>0.062190</td>\n",
       "      <td>4.242005</td>\n",
       "      <td>13.820539</td>\n",
       "      <td>5.995444</td>\n",
       "      <td>1.433341</td>\n",
       "      <td>21.859332</td>\n",
       "      <td>663.260417</td>\n",
       "      <td>11.054340</td>\n",
       "    </tr>\n",
       "    <tr>\n",
       "      <th>tolls</th>\n",
       "      <td>-0.004946</td>\n",
       "      <td>3.441533</td>\n",
       "      <td>9.961493</td>\n",
       "      <td>1.433341</td>\n",
       "      <td>2.002982</td>\n",
       "      <td>13.357292</td>\n",
       "      <td>454.440084</td>\n",
       "      <td>7.574001</td>\n",
       "    </tr>\n",
       "    <tr>\n",
       "      <th>total</th>\n",
       "      <td>0.261233</td>\n",
       "      <td>47.843057</td>\n",
       "      <td>155.502375</td>\n",
       "      <td>21.859332</td>\n",
       "      <td>13.357292</td>\n",
       "      <td>190.869976</td>\n",
       "      <td>7902.989316</td>\n",
       "      <td>131.716489</td>\n",
       "    </tr>\n",
       "    <tr>\n",
       "      <th>duration_seconds</th>\n",
       "      <td>-3.646951</td>\n",
       "      <td>2196.438514</td>\n",
       "      <td>6844.310124</td>\n",
       "      <td>663.260417</td>\n",
       "      <td>454.440084</td>\n",
       "      <td>7902.989316</td>\n",
       "      <td>488088.789894</td>\n",
       "      <td>8134.813165</td>\n",
       "    </tr>\n",
       "    <tr>\n",
       "      <th>duration_minutes</th>\n",
       "      <td>-0.060783</td>\n",
       "      <td>36.607309</td>\n",
       "      <td>114.071835</td>\n",
       "      <td>11.054340</td>\n",
       "      <td>7.574001</td>\n",
       "      <td>131.716489</td>\n",
       "      <td>8134.813165</td>\n",
       "      <td>135.580219</td>\n",
       "    </tr>\n",
       "  </tbody>\n",
       "</table>\n",
       "</div>"
      ],
      "text/plain": [
       "                  passengers     distance         fare         tip  \\\n",
       "passengers          1.449058     0.043365     0.106199    0.062190   \n",
       "distance            0.043365    14.652566    40.686031    4.242005   \n",
       "fare                0.106199    40.686031   133.444182   13.820539   \n",
       "tip                 0.062190     4.242005    13.820539    5.995444   \n",
       "tolls              -0.004946     3.441533     9.961493    1.433341   \n",
       "total               0.261233    47.843057   155.502375   21.859332   \n",
       "duration_seconds   -3.646951  2196.438514  6844.310124  663.260417   \n",
       "duration_minutes   -0.060783    36.607309   114.071835   11.054340   \n",
       "\n",
       "                       tolls        total  duration_seconds  duration_minutes  \n",
       "passengers         -0.004946     0.261233         -3.646951         -0.060783  \n",
       "distance            3.441533    47.843057       2196.438514         36.607309  \n",
       "fare                9.961493   155.502375       6844.310124        114.071835  \n",
       "tip                 1.433341    21.859332        663.260417         11.054340  \n",
       "tolls               2.002982    13.357292        454.440084          7.574001  \n",
       "total              13.357292   190.869976       7902.989316        131.716489  \n",
       "duration_seconds  454.440084  7902.989316     488088.789894       8134.813165  \n",
       "duration_minutes    7.574001   131.716489       8134.813165        135.580219  "
      ]
     },
     "execution_count": 112,
     "metadata": {},
     "output_type": "execute_result"
    }
   ],
   "source": [
    "taxis.cov()"
   ]
  },
  {
   "cell_type": "markdown",
   "id": "5f747a5f-8930-4261-b14e-0bfe9a43d9c6",
   "metadata": {},
   "source": [
    "*Conclusão: escrever aqui*"
   ]
  },
  {
   "cell_type": "markdown",
   "id": "7e2c1ac5-a26f-46b4-8466-d20f61073583",
   "metadata": {},
   "source": [
    "<div style=\"background-color: lightgray; padding: 10px;\">\n",
    "    <h3>  Tabelas de Frequência:\n",
    "</div>"
   ]
  },
  {
   "cell_type": "code",
   "execution_count": null,
   "id": "5a5436bd-f981-4ea4-9ad2-0fc5d4c8fa4e",
   "metadata": {},
   "outputs": [],
   "source": []
  },
  {
   "cell_type": "code",
   "execution_count": 123,
   "id": "24acb5ab-fb62-4ce5-899b-348b78015187",
   "metadata": {},
   "outputs": [
    {
     "name": "stdout",
     "output_type": "stream",
     "text": [
      "pickup_borough  Bronx  Brooklyn  Manhattan  Queens\n",
      "color                                             \n",
      "green              83       313        294     288\n",
      "yellow             16        70       4974     369\n"
     ]
    }
   ],
   "source": [
    "cross_table = pd.crosstab(taxis['color'], taxis['pickup_borough'])\n",
    "print(cross_table)"
   ]
  },
  {
   "cell_type": "code",
   "execution_count": 128,
   "id": "725ac5bd-d1ad-4792-bec7-b9f9d2b1dac1",
   "metadata": {},
   "outputs": [
    {
     "name": "stdout",
     "output_type": "stream",
     "text": [
      "pickup_borough     Bronx  Brooklyn  Manhattan    Queens\n",
      "color                                                  \n",
      "green           1.295458  4.885282   4.588731  4.495084\n",
      "yellow          0.249727  1.092555  77.633838  5.759326\n"
     ]
    }
   ],
   "source": [
    "cross_table = pd.crosstab(taxis['color'], taxis['pickup_borough'], normalize=True)*100\n",
    "print(cross_table)"
   ]
  },
  {
   "cell_type": "code",
   "execution_count": 127,
   "id": "7d515f66-9cea-4084-8b25-d4c2e005ce91",
   "metadata": {},
   "outputs": [
    {
     "data": {
      "text/plain": [
       "color   pickup_borough\n",
       "yellow  Manhattan         77.633838\n",
       "        Queens             5.759326\n",
       "green   Brooklyn           4.885282\n",
       "        Manhattan          4.588731\n",
       "        Queens             4.495084\n",
       "        Bronx              1.295458\n",
       "yellow  Brooklyn           1.092555\n",
       "        Bronx              0.249727\n",
       "dtype: float64"
      ]
     },
     "execution_count": 127,
     "metadata": {},
     "output_type": "execute_result"
    }
   ],
   "source": [
    "taxis[['color', 'pickup_borough']].value_counts(normalize=True)*100"
   ]
  },
  {
   "cell_type": "markdown",
   "id": "2190dc0d-e380-45d4-9a7b-3305cb30ca7a",
   "metadata": {},
   "source": [
    "*Conclusão: escrever aqui*"
   ]
  },
  {
   "cell_type": "code",
   "execution_count": null,
   "id": "234a8c7e-28be-47e5-b6d2-cb99ac6cbd7f",
   "metadata": {},
   "outputs": [],
   "source": []
  },
  {
   "cell_type": "code",
   "execution_count": 134,
   "id": "987b8b62-746c-4a4f-8808-17054ba603a0",
   "metadata": {},
   "outputs": [
    {
     "name": "stdout",
     "output_type": "stream",
     "text": [
      "payment  cash  credit card\n",
      "color                     \n",
      "green     400          577\n",
      "yellow   1412         4000\n"
     ]
    }
   ],
   "source": [
    "cross_table = pd.crosstab(taxis['color'], taxis['payment'])\n",
    "print(cross_table)"
   ]
  },
  {
   "cell_type": "code",
   "execution_count": 139,
   "id": "7c899120-33d0-41a4-a6fc-70edb9dfafe1",
   "metadata": {},
   "outputs": [
    {
     "name": "stdout",
     "output_type": "stream",
     "text": [
      "payment      cash  credit card\n",
      "color                         \n",
      "green    0.409417     0.590583\n"
     ]
    }
   ],
   "source": [
    "green_taxis = taxis[taxis['color'] == 'green']\n",
    "\n",
    "cross_table = pd.crosstab(green_taxis['color'], green_taxis['payment'], normalize=True)\n",
    "print(cross_table)"
   ]
  },
  {
   "cell_type": "code",
   "execution_count": 140,
   "id": "0a04c9ef-34a1-420f-87c3-724defa37124",
   "metadata": {},
   "outputs": [
    {
     "name": "stdout",
     "output_type": "stream",
     "text": [
      "payment      cash  credit card\n",
      "color                         \n",
      "yellow   0.260902     0.739098\n"
     ]
    }
   ],
   "source": [
    "yellow_taxis = taxis[taxis['color'] == 'yellow']\n",
    "\n",
    "cross_table = pd.crosstab(yellow_taxis['color'], yellow_taxis['payment'], normalize=True)\n",
    "print(cross_table)"
   ]
  },
  {
   "cell_type": "markdown",
   "id": "d4dafd42-ac59-4d50-bdf1-0bd612889d65",
   "metadata": {},
   "source": [
    "*Conclusão: escrever aqui*"
   ]
  },
  {
   "cell_type": "code",
   "execution_count": null,
   "id": "4e8d322e-d89e-4f2b-9ad5-636f7ca6dafe",
   "metadata": {},
   "outputs": [],
   "source": []
  },
  {
   "cell_type": "markdown",
   "id": "c78506c3-2a21-4b22-897d-ffabe1f298e2",
   "metadata": {},
   "source": [
    "<div style=\"background-color: lightgreen; padding: 10px;\">\n",
    "    <h2>  Probabilidades\n",
    "</div>"
   ]
  },
  {
   "cell_type": "markdown",
   "id": "144a2311-c72a-469d-af63-804ddb04ce4c",
   "metadata": {},
   "source": [
    "Nesta seção iremos aplicar os conceitos de probabilidade aprendidos em sala de aula.\n",
    "\n",
    "Desejamos entender dado um determinado evento, qual a probabilidade de outro evento acontecer?\n",
    "\n",
    "Pois bem, levantamos durante a etapa de leitura e exploração dos dados alguns **questionamentos**. \n",
    "\n",
    "Será que a **cor** do taxi influencia na probabilidade da ocorrência de determinado local de embarque em nossa amostra?\n",
    "\n",
    "Queremos atestar:\n",
    "- dado que o taxi é amarelo, qual a probabilidade de que o ponto de partida é a Ilha de Manhattan?\n",
    "- caso o taxi seja verde, qual a probabilidade de que o ponto de partida é a Ilha de Manhattan?"
   ]
  },
  {
   "cell_type": "markdown",
   "id": "7a9050ac-86c3-4a43-bbe1-b8db46e78023",
   "metadata": {},
   "source": [
    "---\n",
    "##### Relembrando o conteúdo de Probabilidade Condicional:\n",
    "\n",
    "Seja dois eventos A e B, a probabilidade condicional entre esses eventos é definada como:\n",
    "    \n",
    "$$ P(A | B) = \\frac{P(A ∩ B)}{P(B)} $$\n",
    "\n",
    "Lembrando que isso é possível se e somente se $ P(B) > 0$.\n",
    "\n",
    "A forma mais comum de ler um problema de probabilidade condicional seria __\"qual a probabilidade de ocorrer o evento A, dado que ocorreu o evento B\"__."
   ]
  },
  {
   "cell_type": "markdown",
   "id": "484f224b-bcf8-4d1b-a9cc-2233003505b6",
   "metadata": {},
   "source": [
    "---\n",
    "- Inicialmente vamos calcular a probabilidade de ocorrer o pickoff_borough em ``Manhattan`` dado que o taxi é ``amarelo``:"
   ]
  },
  {
   "cell_type": "code",
   "execution_count": 155,
   "id": "1c6d996f-9b2b-41b7-bff6-49349d480882",
   "metadata": {},
   "outputs": [
    {
     "data": {
      "text/plain": [
       "0.8473496036064044"
      ]
     },
     "execution_count": 155,
     "metadata": {},
     "output_type": "execute_result"
    }
   ],
   "source": [
    "# Probabilidade de um taxi ser amarelo -> P(Y) = S(Y)/S(W)\n",
    "prob_yellow_taxi = len(taxis[taxis['color'] == 'yellow']) / len(taxis)\n",
    "prob_yellow_taxi "
   ]
  },
  {
   "cell_type": "code",
   "execution_count": 156,
   "id": "6cbfaeca-3bd3-47c0-9607-3f1599aff429",
   "metadata": {},
   "outputs": [
    {
     "data": {
      "text/plain": [
       "0.7732006839732629"
      ]
     },
     "execution_count": 156,
     "metadata": {},
     "output_type": "execute_result"
    }
   ],
   "source": [
    "# Probabilidade de pickoff_borough ser em Manhattan e o taxi ser amarelo -> P(M ∩ Y) = S(M ∩ Y)/ S(w)\n",
    "prob_manhattan_and_yellow = (len(taxis[(taxis['color'] == 'yellow') & (taxis['pickup_borough'] == 'Manhattan')]) / len(taxis))\n",
    "prob_manhattan_and_yellow"
   ]
  },
  {
   "cell_type": "code",
   "execution_count": 163,
   "id": "02b8dceb-2156-43d1-bdf4-cfa28b895e03",
   "metadata": {},
   "outputs": [
    {
     "data": {
      "text/plain": [
       "0.9124931205283435"
      ]
     },
     "execution_count": 163,
     "metadata": {},
     "output_type": "execute_result"
    }
   ],
   "source": [
    "# Probabilidade de pickoff_borough ser em Manhattan dado que o taxi é amarelo -> P(M|Y) = P(M ∩ Y) / P(Y) \n",
    "prob_manhattan_given_yellow = (prob_manhattan_and_yellow / prob_yellow_taxi )\n",
    "prob_manhattan_given_yellow"
   ]
  },
  {
   "cell_type": "markdown",
   "id": "4013ebab-d1cd-4123-a9e5-58bcf76770a6",
   "metadata": {},
   "source": [
    "---\n",
    "- Agora vamos calcular a probabilidade de ocorrer o pickoff_borough em ``Manhattan`` dado que o taxi é ``verde``:"
   ]
  },
  {
   "cell_type": "code",
   "execution_count": 168,
   "id": "9a07500d-9c4f-4a1d-9b85-41e6752fbda3",
   "metadata": {},
   "outputs": [
    {
     "data": {
      "text/plain": [
       "0.1526503963935955"
      ]
     },
     "execution_count": 168,
     "metadata": {},
     "output_type": "execute_result"
    }
   ],
   "source": [
    "# Probabilidade de um taxi ser verde -> P(G) = S(G)/S(w)\n",
    "prob_green_taxi = len(taxis[taxis['color'] == 'green']) / len(taxis)\n",
    "prob_green_taxi "
   ]
  },
  {
   "cell_type": "code",
   "execution_count": 169,
   "id": "8af8aa24-f9de-4fbf-8101-d1312d89df42",
   "metadata": {},
   "outputs": [
    {
     "data": {
      "text/plain": [
       "0.04570184983677911"
      ]
     },
     "execution_count": 169,
     "metadata": {},
     "output_type": "execute_result"
    }
   ],
   "source": [
    "# Probabilidade de pickoff_borough ser em Manhattan e o taxi ser verde -> P(M ∩ G) = S(M ∩ G)/ S(w)\n",
    "prob_manhattan_and_green = (len(taxis[(taxis['color'] == 'green') & (taxis['pickup_borough'] == 'Manhattan')]) / len(taxis))\n",
    "prob_manhattan_and_green"
   ]
  },
  {
   "cell_type": "code",
   "execution_count": 171,
   "id": "cc41955d-a5d4-4bb9-9289-3f21feabf98f",
   "metadata": {},
   "outputs": [
    {
     "data": {
      "text/plain": [
       "0.2993890020366599"
      ]
     },
     "execution_count": 171,
     "metadata": {},
     "output_type": "execute_result"
    }
   ],
   "source": [
    "# Probabilidade de pickoff_borough ser em Manhattan dado que o taxi é verde -> P(M|G) = P(M ∩ G) / P(Y) \n",
    "prob_manhattan_given_green = (prob_manhattan_and_green / prob_green_taxi )\n",
    "prob_manhattan_given_green"
   ]
  },
  {
   "cell_type": "markdown",
   "id": "60df30cd-b197-46fd-b77d-8d974696572c",
   "metadata": {},
   "source": [
    "*Conclusão: De acordo com os resultados a probabilidade de o pickoff ter sido na ilha de Manhattan é **91%** nos casos em que o taxi é ``amarelo``, contra **30%** quando o taxi é ``verde``. \n",
    "<br>\n",
    "Isso nos faz levantar possibilidades em que a frota de taxis amarelos pode ser maior, ou há um certo tipo de jurisdição ou preferência para que os taxis amarelos atuem com maior frequência na ilha do que os verdes. \n",
    "<br>\n",
    "De toda forma, concluimos que há de fato uma certa influência na probabilidade de o pickoff ter sido em Manhattan dada a cor de um taxi.*"
   ]
  },
  {
   "cell_type": "markdown",
   "id": "fdc6cc1c-c1ac-4713-bac1-7dfcf3aded1f",
   "metadata": {},
   "source": [
    "<div style=\"background-color: lightgreen; padding: 10px;\">\n",
    "    <h2>  Testes de Hipótese\n",
    "</div>"
   ]
  },
  {
   "cell_type": "markdown",
   "id": "974d9f59-4576-4d19-9602-0924276e606b",
   "metadata": {},
   "source": [
    "Nesta seção iremos aplicar os conceitos de testes de hipótese afim de responder a alguns questionamentos.\n",
    "\n",
    "- É verdade que taxis da cor amarela cobram mais caro em suas tarifas por distância percorrida do que os verdes?\n",
    "- Viagens em que há pagamento de pedágio demoram mais que viagens sem pedágio?"
   ]
  },
  {
   "cell_type": "code",
   "execution_count": null,
   "id": "f4a07ace-90e9-44a3-999a-8b6ad30faf5d",
   "metadata": {},
   "outputs": [],
   "source": []
  },
  {
   "cell_type": "code",
   "execution_count": null,
   "id": "7064fed7-4429-4d82-8c55-d40d6a051b0d",
   "metadata": {},
   "outputs": [],
   "source": []
  },
  {
   "cell_type": "markdown",
   "id": "ecf6fd40-0df2-4c33-a325-868eddd004e2",
   "metadata": {},
   "source": [
    "<div style=\"background-color: lightgreen; padding: 10px;\">\n",
    "    <h2>  Conclusões\n",
    "</div>"
   ]
  },
  {
   "cell_type": "markdown",
   "id": "a2fe0f07-8876-499c-8fad-44e363824b68",
   "metadata": {},
   "source": [
    "Este projeto buscou aplicar os conhecimentos de ``Estatística`` e ``Python`` adquiridos no módulo de **Estatística I** por meio da aplicação prática, utilizando dados que simulam a realidade.\n",
    "\n",
    "Foi possível explorar um conjunto de dados com ``14 colunas`` que compõem uma amostra de observações de **viagens de taxi**.\n",
    "\n",
    "Durante a etapa inicial, estivemos atentos com a documentação da base e realizamos o seu carregamento.\n",
    "\n",
    "Durante a etapa de leitura, buscamos entender quais as informações a tabela apresentava em suas colunas.\n",
    "\n",
    "Em seguida, durante a análise exploratória, buscamos entender melhor sobre a distribuições dos dados quantitativos e extrair suas estatísticas descritivas.\n",
    "\n",
    "E por fim, aplicamos também os conceitos de probabilidade e testes de hipóteses para responder a alguns questionamentos de negócio.\n",
    "\n",
    "Obrigado pela atenção de todos. \n",
    "Fiquem à vontade para apresentar melhorias nos códigos."
   ]
  }
 ],
 "metadata": {
  "kernelspec": {
   "display_name": "Python 3 (ipykernel)",
   "language": "python",
   "name": "python3"
  },
  "language_info": {
   "codemirror_mode": {
    "name": "ipython",
    "version": 3
   },
   "file_extension": ".py",
   "mimetype": "text/x-python",
   "name": "python",
   "nbconvert_exporter": "python",
   "pygments_lexer": "ipython3",
   "version": "3.11.5"
  }
 },
 "nbformat": 4,
 "nbformat_minor": 5
}
